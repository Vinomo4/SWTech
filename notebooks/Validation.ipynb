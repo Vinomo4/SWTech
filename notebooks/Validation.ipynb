{
 "cells": [
  {
   "cell_type": "code",
   "execution_count": 1,
   "metadata": {},
   "outputs": [],
   "source": [
    "# Import libraries and packages\n",
    "import os\n",
    "import sys\n",
    "import pandas as pd\n",
    "import numpy as np\n",
    "\n",
    "# Define path with .py codes containing functions used in this script\n",
    "os.chdir( '../src/models/')\n",
    "sys.path.append('../features/')\n",
    "\n",
    "# Import useful functions for this script  \n",
    "from tracking import track\n",
    "import matplotlib.pyplot as plt\n",
    "from fun_validation import plot_quality_metrics\n",
    "\n",
    "track(\"-\"*25 + \"VALIDATION\" + \"-\"*25)"
   ]
  },
  {
   "cell_type": "markdown",
   "metadata": {},
   "source": [
    "# Reading data\n",
    "#### Define path to data files"
   ]
  },
  {
   "cell_type": "code",
   "execution_count": 2,
   "metadata": {},
   "outputs": [],
   "source": [
    "track(\"Defining path to data files\")\n",
    "\n",
    "# Define base path to data files\n",
    "path = '../../temp_data/'\n",
    "\n",
    "# Define path to the model_data_with_clusters table\n",
    "path_clusters_data = path + 'model_data_with_clusters.csv'\n",
    "\n",
    "# Ensure the input file exist\n",
    "assert os.path.isfile(path_clusters_data), f'{path_clusters_data} not found. Is it a file?'"
   ]
  },
  {
   "cell_type": "markdown",
   "metadata": {},
   "source": [
    "#### Read the files"
   ]
  },
  {
   "cell_type": "code",
   "execution_count": 3,
   "metadata": {},
   "outputs": [],
   "source": [
    "track(\"Reading files\")\n",
    "\n",
    "# Read clusterized data \n",
    "clusterized_data = pd.read_csv(path_clusters_data)\n",
    "\n",
    "track(\"Finished reading files\")"
   ]
  },
  {
   "cell_type": "markdown",
   "metadata": {},
   "source": [
    "# Validation"
   ]
  },
  {
   "cell_type": "code",
   "execution_count": 4,
   "metadata": {},
   "outputs": [],
   "source": [
    "track(\"Creating average quality dataset\")\n",
    "average_quality = (clusterized_data.groupby('clusters').agg(blocker_violations_mean = ('blocker_violations', 'mean'),\n",
    "                                          blocker_violations_std = ('blocker_violations', 'std'),\n",
    "                                          critical_violations_mean = ('critical_violations', 'mean'),\n",
    "                                          critical_violations_std = ('critical_violations', 'std'),\n",
    "                                          major_violations_mean = ('major_violations', 'mean'),\n",
    "                                          major_violations_std = ('major_violations', 'std'),\n",
    "                                          minor_violations_mean = ('minor_violations', 'mean'),\n",
    "                                          minor_violations_std = ('minor_violations', 'std'),\n",
    "                                          code_smells_mean = ('code_smells', 'mean'),\n",
    "                                          code_smells_std = ('code_smells', 'std'),\n",
    "                                          bugs_mean = ('bugs', 'mean'),\n",
    "                                          bugs_std = ('bugs', 'std'),\n",
    "                                          vulnerabilities_mean = ('vulnerabilities', 'mean'),\n",
    "                                          vulnerabilities_std = ('vulnerabilities', 'std'),\n",
    "                                          blocker_mean = ('blocker', 'mean'),\n",
    "                                          blocker_std = ('blocker', 'std'),\n",
    "                                          critical_mean = ('critical', 'mean'),\n",
    "                                          critical_std = ('critical', 'std'),\n",
    "                                          major_mean = ('major', 'mean'),\n",
    "                                          major_std = ('major', 'std'),\n",
    "                                          minor_mean = ('minor', 'mean'),\n",
    "                                          minor_std = ('minor', 'std'),\n",
    "                                          quality_rating = ('quality_rating','mean'))).reset_index()\n",
    "track(\"Finished creating average quality dataset\")"
   ]
  },
  {
   "cell_type": "code",
   "execution_count": 5,
   "metadata": {},
   "outputs": [],
   "source": [
    "track(\"Creating plots of quality metrics\")\n",
    "# There will be three different plots. It is necessary to create the groups of the variables to be printed in the same plot \n",
    "violation_metrics = [\"blocker_violations\", \"critical_violations\", \"major_violations\", \"minor_violations\"]\n",
    "severity_metrics = [\"blocker\", \"critical\", \"major\", \"minor\"]\n",
    "other_metrics = [\"code_smells\", \"bugs\", \"vulnerabilities\"]"
   ]
  },
  {
   "cell_type": "code",
   "execution_count": 7,
   "metadata": {},
   "outputs": [],
   "source": [
    "# Order the quality rating from the best cluster to the words one. It allows to compare the values from the cluster with highest quality rating to the lowest one.3\n",
    "sorted_average_quality = average_quality.sort_values(by=['quality_rating'],ascending = True)"
   ]
  },
  {
   "cell_type": "code",
   "execution_count": 9,
   "metadata": {},
   "outputs": [],
   "source": [
    "plot_quality_metrics(sorted_average_quality, violation_metrics, [0, 5000, 10000, 15000, 20000, 25000])"
   ]
  },
  {
   "cell_type": "code",
   "execution_count": 10,
   "metadata": {},
   "outputs": [],
   "source": [
    "plot_quality_metrics(sorted_average_quality, severity_metrics, [-1000, -500, 0, 500, 1000, 1500, 2000, 2500])"
   ]
  },
  {
   "cell_type": "code",
   "execution_count": 11,
   "metadata": {},
   "outputs": [],
   "source": [
    "plot_quality_metrics(sorted_average_quality, other_metrics, [0, 5000, 10000, 15000, 20000, 25000, 30000, 35000, 40000, 45000])\n",
    "track(\"Finished creating plots of quality metrics\")"
   ]
  }
 ],
 "metadata": {
  "interpreter": {
   "hash": "6cd1d83718134f315460238d88b359275c9d4f8cd456942e203aa190d4cb480b"
  },
  "kernelspec": {
   "display_name": "Python 3",
   "language": "python",
   "name": "python3"
  },
  "language_info": {
   "codemirror_mode": {
    "name": "ipython",
    "version": 3
   },
   "file_extension": ".py",
   "mimetype": "text/x-python",
   "name": "python",
   "nbconvert_exporter": "python",
   "pygments_lexer": "ipython3",
   "version": "3.8.10"
  }
 },
 "nbformat": 4,
 "nbformat_minor": 2
}
