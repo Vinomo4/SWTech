{
 "cells": [
  {
   "cell_type": "markdown",
   "source": [
    "# Introduction\n",
    "Data preparation of the TechDebt dataset. Concretely, from the following tables:\n",
    "- GIT_COMMITS\n",
    "- GIT_COMMITS_CHANGES\n",
    "- JIRA_ISSUES\n",
    "- SONAR_ANALYSIS\n",
    "- SONAR_ISSUES\n",
    "- SONAR_MEASURES"
   ],
   "metadata": {}
  },
  {
   "cell_type": "markdown",
   "source": [
    "## Library Packages"
   ],
   "metadata": {}
  },
  {
   "cell_type": "code",
   "execution_count": 139,
   "source": [
    "# Import libraries and packages\n",
    "# Miscellaneous libraries\n",
    "import numpy as np\n",
    "import pandas as pd\n",
    "import os\n",
    "from datetime import datetime\n",
    "import collections\n",
    "from prettytable import PrettyTable"
   ],
   "outputs": [],
   "metadata": {}
  },
  {
   "cell_type": "markdown",
   "source": [
    "## Data Preparation"
   ],
   "metadata": {}
  },
  {
   "cell_type": "markdown",
   "source": [
    "#### Define the path of the files"
   ],
   "metadata": {}
  },
  {
   "cell_type": "code",
   "execution_count": 140,
   "source": [
    "# Define the path of the data files\n",
    "path = '../data/raw/'\n",
    "path_git_commits = path + 'GIT_COMMITS.csv'\n",
    "path_git_commits_changes = path + 'GIT_COMMITS_CHANGES.csv'\n",
    "path_jira_issues = path + 'JIRA_ISSUES.csv'\n",
    "path_sonar_analysis = path + 'SONAR_ANALYSIS.csv'\n",
    "path_sonar_issues = path + 'SONAR_ISSUES.csv'\n",
    "path_sonar_measures = path + 'SONAR_MEASURES.csv'\n",
    "\n",
    "# Ensure the input file exist\n",
    "assert os.path.isfile(path_git_commits), f'{path_git_commits} not found. Is it a file?'\n",
    "assert os.path.isfile(path_git_commits_changes), f'{path_git_commits_changes} not found. Is it a file?'\n",
    "assert os.path.isfile(path_jira_issues), f'{path_jira_issues} not found. Is it a file?'\n",
    "assert os.path.isfile(path_sonar_analysis), f'{path_sonar_analysis} not found. Is it a file?'\n",
    "assert os.path.isfile(path_sonar_issues), f'{path_sonar_issues} not found. Is it a file?'\n",
    "assert os.path.isfile(path_sonar_measures), f'{path_sonar_measures} not found. Is it a file?'"
   ],
   "outputs": [],
   "metadata": {}
  },
  {
   "cell_type": "markdown",
   "source": [
    "#### Read the files"
   ],
   "metadata": {}
  },
  {
   "cell_type": "code",
   "execution_count": 141,
   "source": [
    "# Read the files\n",
    "#git_commits_changes = pd.read_csv(path_git_commits_changes)\n",
    "#git_commits = pd.read_csv(path_git_commits)\n",
    "jira_issues = pd.read_csv(path_jira_issues)\n",
    "sonar_analysis = pd.read_csv(path_sonar_analysis)\n",
    "sonar_issues = pd.read_csv(path_sonar_issues)\n",
    "sonar_measures = pd.read_csv(path_sonar_measures)"
   ],
   "outputs": [],
   "metadata": {}
  },
  {
   "cell_type": "markdown",
   "source": [
    "#### Define selected variables\n",
    "In the following section we are only selecting the useful variables for the project. The election process has been studied previusly, in the Data Understanding step."
   ],
   "metadata": {}
  },
  {
   "cell_type": "code",
   "execution_count": 142,
   "source": [
    "# Define variables of interest for each dataframe\n",
    "#git_commits_changes_names = ['COMMIT_HASH','DATE','LINES_ADDED','LINES_REMOVED']\n",
    "#git_commits_names = ['PROJECT_ID','COMMIT_HASH','AUTHOR','AUTHOR_DATE','AUTHOR_TIMEZONE']\n",
    "jira_issues_names = ['HASH']\n",
    "sonar_analysis_names = ['PROJECT_ID','ANALYSIS_KEY','REVISION']\n",
    "sonar_issues_names = ['CREATION_ANALYSIS_KEY','SEVERITY','STATUS','EFFORT','MESSAGE','START_LINE','END_LINE','CLOSE_ANALYSIS_KEY']\n",
    "sonar_measures_names = ['analysis_key','complexity' ,'cognitive_complexity', 'coverage', 'duplicated_blocks', 'duplicated_files', \n",
    "                        'duplicated_lines_density', 'violations','blocker_violations','critical_violations','major_violations','minor_violations','info_violations','false_positive_issues','open_issues','reopened_issues','confirmed_issues', 'sqale_debt_ratio','code_smells','bugs','reliability_rating','vulnerabilities','security_rating','files', 'comment_lines_density']"
   ],
   "outputs": [],
   "metadata": {}
  },
  {
   "cell_type": "code",
   "execution_count": 143,
   "source": [
    "# Select variables of interest\n",
    "#git_commits = git_commits[git_commits_names]\n",
    "jira_issues = jira_issues[jira_issues_names]\n",
    "sonar_analysis = sonar_analysis[sonar_analysis_names]\n",
    "sonar_issues = sonar_issues[sonar_issues_names]\n",
    "sonar_measures = sonar_measures[sonar_measures_names]"
   ],
   "outputs": [],
   "metadata": {}
  },
  {
   "cell_type": "code",
   "execution_count": 144,
   "source": [
    "# Select columns of interest\n",
    "dtypes = ['uint8','int16', 'int32', 'int64', 'float16', 'float32', 'float64', 'object']"
   ],
   "outputs": [],
   "metadata": {}
  },
  {
   "cell_type": "markdown",
   "source": [
    "## Global functions"
   ],
   "metadata": {}
  },
  {
   "cell_type": "code",
   "execution_count": 145,
   "source": [
    "def delete_na(name_tables, dataframes, dtypes):\n",
    "    '''\n",
    "    Objective:\n",
    "        - Delete all NA's from the dataframe passed\n",
    "    Input:\n",
    "        - Name_tables : String of the names of the tables\n",
    "        - Dataframe : String of the tables and their selected columns\n",
    "        - Numerical : Numerical types\n",
    "        \n",
    "    Output: \n",
    "        - Table with the dataset sizes before and after deleting all NA:\n",
    "        [\"Table name\", \"Total number of rows\", \"Number of NA\", \"Total number of rows after deleting NA\"]\n",
    "    '''\n",
    "    table = PrettyTable()\n",
    "    table.field_names = [\"Table name\", \"Total number of rows\", \"Number of NA\", \"Total number of rows after deleting NA\"]\n",
    "    for i in range(len(name_tables)):\n",
    "        dataframe_numerical = dataframes[i].select_dtypes(include=dtypes)\n",
    "        total_rows = dataframe_numerical.shape[0]\n",
    "        # Rows with na's\n",
    "        rows_with_NA = sum([True for idx,row in dataframe_numerical.iterrows() if any(row.isnull())])\n",
    "        # Delete rows that contain na's\n",
    "        dataframe_numerical = dataframe_numerical.dropna()\n",
    "        total_rows_without_NA = dataframe_numerical.shape[0]\n",
    "        table.add_row([name_tables[i] , total_rows, rows_with_NA,total_rows_without_NA])\n",
    "        dataframes[i] = dataframe_numerical\n",
    "    return dataframes\n"
   ],
   "outputs": [],
   "metadata": {}
  },
  {
   "cell_type": "code",
   "execution_count": 146,
   "source": [
    "def analyse_categorical_variables(table_names, variable_names, dataframes):\n",
    "    '''\n",
    "    Objective:\n",
    "        - Analyse the categorical variables to be encoded\n",
    "    Input:\n",
    "        - Table_names : String of the names of the tables\n",
    "        - Variable_names : String of the categorical variables corresponding to the table\n",
    "        - Dataframes : String of the tables and their selected columns\n",
    "        \n",
    "    Output: \n",
    "        - Table with the categorical variables levels\n",
    "        [\"Table name\", \"Variable name\", \"Number of levels\", \"Types\"]\n",
    "    '''\n",
    "    table = PrettyTable()\n",
    "    table.field_names = [\"Table name\", \"Variable name\", \"Number of levels\", \"Types\"]\n",
    "    for i in range(len(table_names)):\n",
    "        for j in range(len(variable_names)):\n",
    "            table.add_row([table_names[i], variable_names[j], len(dataframes[i][variable_names[j]].unique()), dataframes[i][variable_names[j]].unique()])\n",
    "    print(table)    "
   ],
   "outputs": [],
   "metadata": {}
  },
  {
   "cell_type": "code",
   "execution_count": 147,
   "source": [
    "def one_hot_encoding(table, variable):\n",
    "    variable_dummies = pd.get_dummies(table[variable])\n",
    "    table = table.drop(variable, axis=1)\n",
    "    table = table.join(variable_dummies)\n",
    "    return table\n",
    "    "
   ],
   "outputs": [],
   "metadata": {}
  },
  {
   "cell_type": "markdown",
   "source": [
    "### NA values\n",
    "Deleting all NA values from the tables by using the global function implemented above delete_na()."
   ],
   "metadata": {}
  },
  {
   "cell_type": "code",
   "execution_count": 148,
   "source": [
    "table_names = [\"SONAR_MEASURES\", \"SONAR_ISSUES\", \"SONAR_ANALYSIS\", \"JIRA_ISSUES\"]\n",
    "tables = [sonar_measures, sonar_issues, sonar_analysis, jira_issues]\n",
    "[sonar_measures, sonar_issues, sonar_analysis, jira_issues] = delete_na(table_names, tables, dtypes)"
   ],
   "outputs": [],
   "metadata": {}
  },
  {
   "cell_type": "markdown",
   "source": [
    "### Categorical Values\n",
    "The next step is to analyse the categorical variables and encoding them.\n",
    "For the SONAR_MEASURES, JIRA_ISSUES, SONAR_ANALYSIS table (add more if necessary) there are not categorical varibles."
   ],
   "metadata": {}
  },
  {
   "cell_type": "code",
   "execution_count": 149,
   "source": [
    "table_names = [\"SONAR_ISSUES\"]\n",
    "variable_names = [\"SEVERITY\", \"STATUS\", \"EFFORT\"]\n",
    "dataframes = [sonar_issues]\n",
    "analyse_categorical_variables(table_names, variable_names, dataframes)\n"
   ],
   "outputs": [
    {
     "output_type": "stream",
     "name": "stdout",
     "text": [
      "+--------------+---------------+------------------+--------------------------------------------------------------------+\n",
      "|  Table name  | Variable name | Number of levels |                               Types                                |\n",
      "+--------------+---------------+------------------+--------------------------------------------------------------------+\n",
      "| SONAR_ISSUES |    SEVERITY   |        5         |           ['INFO' 'MINOR' 'MAJOR' 'CRITICAL' 'BLOCKER']            |\n",
      "| SONAR_ISSUES |     STATUS    |        1         |                             ['CLOSED']                             |\n",
      "| SONAR_ISSUES |     EFFORT    |       181        | [1.0000e+01 2.0000e+00 9.0000e+01 1.0000e+00 5.0000e+00 8.0000e+00 |\n",
      "|              |               |                  |  1.2000e+01 1.4000e+01 3.0000e+01 2.0000e+01 6.0000e+01 2.5000e+01 |\n",
      "|              |               |                  |  1.1000e+01 1.9000e+01 2.8000e+01 5.6000e+01 6.0000e+00 1.3000e+01 |\n",
      "|              |               |                  |  1.5000e+01 3.6000e+01 1.8000e+01 2.2000e+01 4.2000e+01 3.8000e+01 |\n",
      "|              |               |                  |  1.6000e+01 4.0000e+01 2.4000e+01 3.2000e+01 2.6000e+01 5.0000e+01 |\n",
      "|              |               |                  |  4.4000e+01 1.7000e+01 2.3000e+01 2.1800e+02 1.6800e+02 4.8000e+01 |\n",
      "|              |               |                  |  9.8000e+01 1.0400e+02 7.4000e+01 7.0000e+00 2.1000e+01 1.2000e+02 |\n",
      "|              |               |                  |  1.3800e+02 3.4000e+01 7.0000e+01 9.2000e+01 8.0000e+01 6.4000e+01 |\n",
      "|              |               |                  |  7.2000e+01 6.6000e+01 8.2000e+01 8.4000e+01 4.6000e+01 1.6200e+02 |\n",
      "|              |               |                  |  1.0200e+02 9.0000e+00 2.7000e+01 5.8000e+01 5.2000e+01 5.7000e+01 |\n",
      "|              |               |                  |  5.1000e+01 3.9000e+01 3.0000e+00 3.1000e+01 3.7000e+01 3.1200e+03 |\n",
      "|              |               |                  |  4.7000e+01 3.1050e+03 1.3100e+02 2.9420e+03 2.9000e+01 1.8000e+02 |\n",
      "|              |               |                  |  7.9000e+01 3.5000e+01 1.0000e+02 4.5000e+01 3.3000e+01 1.4800e+02 |\n",
      "|              |               |                  |  3.1400e+02 7.8000e+01 3.7100e+02 7.1000e+01 4.9000e+01 4.3000e+01 |\n",
      "|              |               |                  |  5.9000e+01 1.0600e+02 1.5060e+03 2.9200e+02 1.1700e+02 3.9500e+02 |\n",
      "|              |               |                  |  1.1300e+02 1.5800e+02 7.3000e+01 1.6060e+03 8.1000e+01 1.5000e+03 |\n",
      "|              |               |                  |  1.5120e+03 7.6000e+01 8.7000e+01 6.3000e+01 5.4000e+01 6.8000e+01 |\n",
      "|              |               |                  |  2.9150e+03 2.9540e+03 1.3000e+02 4.1000e+01 1.0100e+02 1.4000e+02 |\n",
      "|              |               |                  |  3.6000e+02 2.0000e+02 2.1200e+02 9.7000e+01 2.7900e+02 1.1600e+02 |\n",
      "|              |               |                  |  8.8000e+01 3.0010e+03 1.7639e+04 4.7300e+02 1.4900e+02 3.1500e+02 |\n",
      "|              |               |                  |  1.2100e+02 7.7000e+01 3.2200e+02 1.4430e+03 1.5520e+03 3.5000e+02 |\n",
      "|              |               |                  |  1.5200e+02 4.2400e+02 2.7000e+02 4.7000e+02 1.2600e+02 8.5000e+01 |\n",
      "|              |               |                  |  1.4600e+02 2.9800e+02 6.5000e+01 1.3500e+02 1.9400e+02 1.4780e+03 |\n",
      "|              |               |                  |  8.6000e+01 5.3000e+01 3.3400e+02 4.1200e+02 3.1200e+02 3.2000e+02 |\n",
      "|              |               |                  |  3.3600e+02 6.1000e+01 6.2000e+01 1.1800e+02 9.3000e+01 2.1700e+02 |\n",
      "|              |               |                  |  8.3000e+01 1.2300e+02 3.8600e+02 2.3000e+02 1.4620e+03 2.4200e+02 |\n",
      "|              |               |                  |  1.4420e+03 1.7300e+03 2.9840e+03 1.8260e+03 2.9800e+03 5.7620e+03 |\n",
      "|              |               |                  |  1.7400e+02 1.1000e+02 1.8400e+02 5.8140e+03 9.6000e+01 1.1100e+02 |\n",
      "|              |               |                  |  1.4840e+03 1.7600e+02 1.2200e+02 1.3400e+02 1.6600e+02 2.2000e+02 |\n",
      "|              |               |                  |  1.0300e+02 1.8540e+03 9.4000e+01 1.9700e+02 1.0800e+02 1.8900e+02 |\n",
      "|              |               |                  |                             1.0700e+02]                            |\n",
      "+--------------+---------------+------------------+--------------------------------------------------------------------+\n"
     ]
    }
   ],
   "metadata": {}
  },
  {
   "cell_type": "markdown",
   "source": [
    "As can be seen in the chunk above, the SEVERITY and STATUS variables have 5 and 1 levels respectively. In our case, we have performed the One-hot encoding for the SEVERITY variable. For the STATUS variable, efore deleting all NA, there was the OPENED level. However, all rows with an OPENED status contained NA, which means that for this variable we only have the CLOSED level. \n",
    "When joining the tables, we will calulate the mean of each types each author has."
   ],
   "metadata": {}
  },
  {
   "cell_type": "code",
   "execution_count": 150,
   "source": [
    "sonar_issues = one_hot_encoding(sonar_issues, \"SEVERITY\")"
   ],
   "outputs": [],
   "metadata": {}
  },
  {
   "cell_type": "code",
   "execution_count": 151,
   "source": [
    "sonar_issues = one_hot_encoding(sonar_issues, \"STATUS\")\n",
    "sonar_issues.head()"
   ],
   "outputs": [
    {
     "output_type": "execute_result",
     "data": {
      "text/html": [
       "<div>\n",
       "<style scoped>\n",
       "    .dataframe tbody tr th:only-of-type {\n",
       "        vertical-align: middle;\n",
       "    }\n",
       "\n",
       "    .dataframe tbody tr th {\n",
       "        vertical-align: top;\n",
       "    }\n",
       "\n",
       "    .dataframe thead th {\n",
       "        text-align: right;\n",
       "    }\n",
       "</style>\n",
       "<table border=\"1\" class=\"dataframe\">\n",
       "  <thead>\n",
       "    <tr style=\"text-align: right;\">\n",
       "      <th></th>\n",
       "      <th>CREATION_ANALYSIS_KEY</th>\n",
       "      <th>EFFORT</th>\n",
       "      <th>MESSAGE</th>\n",
       "      <th>START_LINE</th>\n",
       "      <th>END_LINE</th>\n",
       "      <th>CLOSE_ANALYSIS_KEY</th>\n",
       "      <th>BLOCKER</th>\n",
       "      <th>CRITICAL</th>\n",
       "      <th>INFO</th>\n",
       "      <th>MAJOR</th>\n",
       "      <th>MINOR</th>\n",
       "      <th>CLOSED</th>\n",
       "    </tr>\n",
       "  </thead>\n",
       "  <tbody>\n",
       "    <tr>\n",
       "      <th>41</th>\n",
       "      <td>AWd5_psxC4KKKThc-qK6</td>\n",
       "      <td>10.0</td>\n",
       "      <td>Do not forget to remove this deprecated code s...</td>\n",
       "      <td>104.0</td>\n",
       "      <td>104.0</td>\n",
       "      <td>AWeDrnWEC4KKKThcAtWf</td>\n",
       "      <td>0</td>\n",
       "      <td>0</td>\n",
       "      <td>1</td>\n",
       "      <td>0</td>\n",
       "      <td>0</td>\n",
       "      <td>1</td>\n",
       "    </tr>\n",
       "    <tr>\n",
       "      <th>198</th>\n",
       "      <td>AWd5_psxC4KKKThc-qK6</td>\n",
       "      <td>10.0</td>\n",
       "      <td>Do not forget to remove this deprecated code s...</td>\n",
       "      <td>354.0</td>\n",
       "      <td>354.0</td>\n",
       "      <td>AWeMr1K3C4KKKThcB9hi</td>\n",
       "      <td>0</td>\n",
       "      <td>0</td>\n",
       "      <td>1</td>\n",
       "      <td>0</td>\n",
       "      <td>0</td>\n",
       "      <td>1</td>\n",
       "    </tr>\n",
       "    <tr>\n",
       "      <th>199</th>\n",
       "      <td>AWd5_psxC4KKKThc-qK6</td>\n",
       "      <td>10.0</td>\n",
       "      <td>Do not forget to remove this deprecated code s...</td>\n",
       "      <td>600.0</td>\n",
       "      <td>600.0</td>\n",
       "      <td>AWeMr1K3C4KKKThcB9hi</td>\n",
       "      <td>0</td>\n",
       "      <td>0</td>\n",
       "      <td>1</td>\n",
       "      <td>0</td>\n",
       "      <td>0</td>\n",
       "      <td>1</td>\n",
       "    </tr>\n",
       "    <tr>\n",
       "      <th>200</th>\n",
       "      <td>AWd5_psxC4KKKThc-qK6</td>\n",
       "      <td>10.0</td>\n",
       "      <td>Do not forget to remove this deprecated code s...</td>\n",
       "      <td>609.0</td>\n",
       "      <td>609.0</td>\n",
       "      <td>AWeMr1K3C4KKKThcB9hi</td>\n",
       "      <td>0</td>\n",
       "      <td>0</td>\n",
       "      <td>1</td>\n",
       "      <td>0</td>\n",
       "      <td>0</td>\n",
       "      <td>1</td>\n",
       "    </tr>\n",
       "    <tr>\n",
       "      <th>201</th>\n",
       "      <td>AWd5_psxC4KKKThc-qK6</td>\n",
       "      <td>10.0</td>\n",
       "      <td>Do not forget to remove this deprecated code s...</td>\n",
       "      <td>619.0</td>\n",
       "      <td>619.0</td>\n",
       "      <td>AWeMr1K3C4KKKThcB9hi</td>\n",
       "      <td>0</td>\n",
       "      <td>0</td>\n",
       "      <td>1</td>\n",
       "      <td>0</td>\n",
       "      <td>0</td>\n",
       "      <td>1</td>\n",
       "    </tr>\n",
       "  </tbody>\n",
       "</table>\n",
       "</div>"
      ],
      "text/plain": [
       "    CREATION_ANALYSIS_KEY  EFFORT  \\\n",
       "41   AWd5_psxC4KKKThc-qK6    10.0   \n",
       "198  AWd5_psxC4KKKThc-qK6    10.0   \n",
       "199  AWd5_psxC4KKKThc-qK6    10.0   \n",
       "200  AWd5_psxC4KKKThc-qK6    10.0   \n",
       "201  AWd5_psxC4KKKThc-qK6    10.0   \n",
       "\n",
       "                                               MESSAGE  START_LINE  END_LINE  \\\n",
       "41   Do not forget to remove this deprecated code s...       104.0     104.0   \n",
       "198  Do not forget to remove this deprecated code s...       354.0     354.0   \n",
       "199  Do not forget to remove this deprecated code s...       600.0     600.0   \n",
       "200  Do not forget to remove this deprecated code s...       609.0     609.0   \n",
       "201  Do not forget to remove this deprecated code s...       619.0     619.0   \n",
       "\n",
       "       CLOSE_ANALYSIS_KEY  BLOCKER  CRITICAL  INFO  MAJOR  MINOR  CLOSED  \n",
       "41   AWeDrnWEC4KKKThcAtWf        0         0     1      0      0       1  \n",
       "198  AWeMr1K3C4KKKThcB9hi        0         0     1      0      0       1  \n",
       "199  AWeMr1K3C4KKKThcB9hi        0         0     1      0      0       1  \n",
       "200  AWeMr1K3C4KKKThcB9hi        0         0     1      0      0       1  \n",
       "201  AWeMr1K3C4KKKThcB9hi        0         0     1      0      0       1  "
      ]
     },
     "metadata": {},
     "execution_count": 151
    }
   ],
   "metadata": {}
  },
  {
   "cell_type": "markdown",
   "source": [
    "### MESSAGE variable\n",
    "In the following section, we will encode the MESSAGE variable for the SONAR_ISSUES table. For that variable, we will calulate the length fo the message for each issue, and reassigning the column with that new value instead of the initial message."
   ],
   "metadata": {}
  },
  {
   "cell_type": "code",
   "execution_count": 160,
   "source": [
    "message_length = []\n",
    "for row in sonar_issues['MESSAGE']:\n",
    "    message_length.append(len(row))\n",
    "message_length\n",
    "len(message_length)"
   ],
   "outputs": [
    {
     "output_type": "execute_result",
     "data": {
      "text/plain": [
       "728409"
      ]
     },
     "metadata": {},
     "execution_count": 160
    }
   ],
   "metadata": {}
  },
  {
   "cell_type": "code",
   "execution_count": 161,
   "source": [
    "# reassign the MESSAGE variable to its length instead of the initial string \n",
    "sonar_issues['MESSAGE'] = message_length\n",
    "sonar_issues.head()"
   ],
   "outputs": [
    {
     "output_type": "execute_result",
     "data": {
      "text/html": [
       "<div>\n",
       "<style scoped>\n",
       "    .dataframe tbody tr th:only-of-type {\n",
       "        vertical-align: middle;\n",
       "    }\n",
       "\n",
       "    .dataframe tbody tr th {\n",
       "        vertical-align: top;\n",
       "    }\n",
       "\n",
       "    .dataframe thead th {\n",
       "        text-align: right;\n",
       "    }\n",
       "</style>\n",
       "<table border=\"1\" class=\"dataframe\">\n",
       "  <thead>\n",
       "    <tr style=\"text-align: right;\">\n",
       "      <th></th>\n",
       "      <th>CREATION_ANALYSIS_KEY</th>\n",
       "      <th>EFFORT</th>\n",
       "      <th>MESSAGE</th>\n",
       "      <th>START_LINE</th>\n",
       "      <th>END_LINE</th>\n",
       "      <th>CLOSE_ANALYSIS_KEY</th>\n",
       "      <th>BLOCKER</th>\n",
       "      <th>CRITICAL</th>\n",
       "      <th>INFO</th>\n",
       "      <th>MAJOR</th>\n",
       "      <th>MINOR</th>\n",
       "      <th>CLOSED</th>\n",
       "    </tr>\n",
       "  </thead>\n",
       "  <tbody>\n",
       "    <tr>\n",
       "      <th>41</th>\n",
       "      <td>AWd5_psxC4KKKThc-qK6</td>\n",
       "      <td>10.0</td>\n",
       "      <td>53</td>\n",
       "      <td>104.0</td>\n",
       "      <td>104.0</td>\n",
       "      <td>AWeDrnWEC4KKKThcAtWf</td>\n",
       "      <td>0</td>\n",
       "      <td>0</td>\n",
       "      <td>1</td>\n",
       "      <td>0</td>\n",
       "      <td>0</td>\n",
       "      <td>1</td>\n",
       "    </tr>\n",
       "    <tr>\n",
       "      <th>198</th>\n",
       "      <td>AWd5_psxC4KKKThc-qK6</td>\n",
       "      <td>10.0</td>\n",
       "      <td>53</td>\n",
       "      <td>354.0</td>\n",
       "      <td>354.0</td>\n",
       "      <td>AWeMr1K3C4KKKThcB9hi</td>\n",
       "      <td>0</td>\n",
       "      <td>0</td>\n",
       "      <td>1</td>\n",
       "      <td>0</td>\n",
       "      <td>0</td>\n",
       "      <td>1</td>\n",
       "    </tr>\n",
       "    <tr>\n",
       "      <th>199</th>\n",
       "      <td>AWd5_psxC4KKKThc-qK6</td>\n",
       "      <td>10.0</td>\n",
       "      <td>53</td>\n",
       "      <td>600.0</td>\n",
       "      <td>600.0</td>\n",
       "      <td>AWeMr1K3C4KKKThcB9hi</td>\n",
       "      <td>0</td>\n",
       "      <td>0</td>\n",
       "      <td>1</td>\n",
       "      <td>0</td>\n",
       "      <td>0</td>\n",
       "      <td>1</td>\n",
       "    </tr>\n",
       "    <tr>\n",
       "      <th>200</th>\n",
       "      <td>AWd5_psxC4KKKThc-qK6</td>\n",
       "      <td>10.0</td>\n",
       "      <td>53</td>\n",
       "      <td>609.0</td>\n",
       "      <td>609.0</td>\n",
       "      <td>AWeMr1K3C4KKKThcB9hi</td>\n",
       "      <td>0</td>\n",
       "      <td>0</td>\n",
       "      <td>1</td>\n",
       "      <td>0</td>\n",
       "      <td>0</td>\n",
       "      <td>1</td>\n",
       "    </tr>\n",
       "    <tr>\n",
       "      <th>201</th>\n",
       "      <td>AWd5_psxC4KKKThc-qK6</td>\n",
       "      <td>10.0</td>\n",
       "      <td>53</td>\n",
       "      <td>619.0</td>\n",
       "      <td>619.0</td>\n",
       "      <td>AWeMr1K3C4KKKThcB9hi</td>\n",
       "      <td>0</td>\n",
       "      <td>0</td>\n",
       "      <td>1</td>\n",
       "      <td>0</td>\n",
       "      <td>0</td>\n",
       "      <td>1</td>\n",
       "    </tr>\n",
       "  </tbody>\n",
       "</table>\n",
       "</div>"
      ],
      "text/plain": [
       "    CREATION_ANALYSIS_KEY  EFFORT  MESSAGE  START_LINE  END_LINE  \\\n",
       "41   AWd5_psxC4KKKThc-qK6    10.0       53       104.0     104.0   \n",
       "198  AWd5_psxC4KKKThc-qK6    10.0       53       354.0     354.0   \n",
       "199  AWd5_psxC4KKKThc-qK6    10.0       53       600.0     600.0   \n",
       "200  AWd5_psxC4KKKThc-qK6    10.0       53       609.0     609.0   \n",
       "201  AWd5_psxC4KKKThc-qK6    10.0       53       619.0     619.0   \n",
       "\n",
       "       CLOSE_ANALYSIS_KEY  BLOCKER  CRITICAL  INFO  MAJOR  MINOR  CLOSED  \n",
       "41   AWeDrnWEC4KKKThcAtWf        0         0     1      0      0       1  \n",
       "198  AWeMr1K3C4KKKThcB9hi        0         0     1      0      0       1  \n",
       "199  AWeMr1K3C4KKKThcB9hi        0         0     1      0      0       1  \n",
       "200  AWeMr1K3C4KKKThcB9hi        0         0     1      0      0       1  \n",
       "201  AWeMr1K3C4KKKThcB9hi        0         0     1      0      0       1  "
      ]
     },
     "metadata": {},
     "execution_count": 161
    }
   ],
   "metadata": {}
  }
 ],
 "metadata": {
  "orig_nbformat": 4,
  "language_info": {
   "name": "python",
   "version": "3.8.2",
   "mimetype": "text/x-python",
   "codemirror_mode": {
    "name": "ipython",
    "version": 3
   },
   "pygments_lexer": "ipython3",
   "nbconvert_exporter": "python",
   "file_extension": ".py"
  },
  "kernelspec": {
   "name": "python3",
   "display_name": "Python 3.8.2 64-bit"
  },
  "interpreter": {
   "hash": "31f2aee4e71d21fbe5cf8b01ff0e069b9275f58929596ceb00d14d90e3e16cd6"
  }
 },
 "nbformat": 4,
 "nbformat_minor": 2
}