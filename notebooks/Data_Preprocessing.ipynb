{
 "cells": [
  {
   "cell_type": "markdown",
   "source": [
    "#### Import the libraries"
   ],
   "metadata": {}
  },
  {
   "cell_type": "code",
   "execution_count": 9,
   "source": [
    "# Import libraries and packages\n",
    "# Miscellaneous libraries\n",
    "import numpy as np\n",
    "import pandas as pd\n",
    "import os\n",
    "\n",
    "# Visualization\n",
    "import matplotlib.pyplot as plt\n",
    "import seaborn as sn"
   ],
   "outputs": [],
   "metadata": {}
  },
  {
   "cell_type": "markdown",
   "source": [
    "#### Define the path of the files"
   ],
   "metadata": {}
  },
  {
   "cell_type": "code",
   "execution_count": 10,
   "source": [
    "# Define the path of the data files\n",
    "path = '../data/raw/'\n",
    "path_git_commits = path + 'GIT_COMMITS.csv'\n",
    "path_git_commits_changes = path + 'GIT_COMMITS_CHANGES.csv'\n",
    "path_jira_issues = path + 'JIRA_ISSUES.csv'\n",
    "path_sonar_analysis = path + 'SONAR_ANALYSIS.csv'\n",
    "path_sonar_issues = path + 'SONAR_ISSUES.csv'\n",
    "path_sonar_measures = path + 'SONAR_MEASURES.csv'\n",
    "\n",
    "# Ensure the input file exist\n",
    "assert os.path.isfile(path_git_commits), f'{path_git_commits} not found. Is it a file?'\n",
    "assert os.path.isfile(path_git_commits_changes), f'{path_git_commits_changes} not found. Is it a file?'\n",
    "assert os.path.isfile(path_jira_issues), f'{path_jira_issues} not found. Is it a file?'\n",
    "assert os.path.isfile(path_sonar_analysis), f'{path_sonar_analysis} not found. Is it a file?'\n",
    "assert os.path.isfile(path_sonar_issues), f'{path_sonar_issues} not found. Is it a file?'\n",
    "assert os.path.isfile(path_sonar_measures), f'{path_sonar_measures} not found. Is it a file?'"
   ],
   "outputs": [],
   "metadata": {}
  },
  {
   "cell_type": "markdown",
   "source": [
    "#### Read the files"
   ],
   "metadata": {}
  },
  {
   "cell_type": "code",
   "execution_count": 11,
   "source": [
    "# Reade the files\n",
    "#git_commits_changes = pd.read_csv(path_git_commits_changes)\n",
    "git_commits = pd.read_csv(path_git_commits)\n",
    "jira_issues = pd.read_csv(path_jira_issues)\n",
    "sonar_analysis = pd.read_csv(path_sonar_analysis)\n",
    "sonar_issues = pd.read_csv(path_sonar_issues)\n",
    "sonar_measures = pd.read_csv(path_sonar_measures)"
   ],
   "outputs": [],
   "metadata": {}
  },
  {
   "cell_type": "code",
   "execution_count": null,
   "source": [],
   "outputs": [],
   "metadata": {}
  },
  {
   "cell_type": "markdown",
   "source": [
    "#### Define selected variables"
   ],
   "metadata": {}
  },
  {
   "cell_type": "code",
   "execution_count": 4,
   "source": [
    "# Define variables of intereset for each dataframe\n",
    "git_commits_changes_names = ['FILE','COMMIT_HASH','DATE','LINES_ADDED','LINES_REMOVED']\n",
    "git_commits_names = ['PROJECT_ID','COMMIT_HASH','AUTHOR','COMMITER_DATE']\n",
    "jira_issues_names = ['HASH']\n",
    "sonar_analysis_names = ['PROJECT_ID','ANALYSIS_KEY','REVISION']\n",
    "sonar_issues_names = ['CREATION_ANALYSIS_KEY','SEVERITY','STATUS','EFFORT','START_LINE','END_LINE','CLOSE_ANALYSIS_KEY']\n",
    "sonar_measures_names = ['analysis_key', 'cognitive_complexity', 'coverage', 'duplicated_blocks', 'duplicated_files', \n",
    "                        'duplicated_lines_density', 'wont_fix_issues', 'files', 'comment_lines_density']"
   ],
   "outputs": [],
   "metadata": {}
  },
  {
   "cell_type": "code",
   "execution_count": 5,
   "source": [
    "# Select variables of interest\n",
    "git_commits = git_commits[git_commits_names]\n",
    "jira_issues = jira_issues[jira_issues_names]\n",
    "sonar_analysis = sonar_analysis[sonar_analysis_names]\n",
    "sonar_issues = sonar_issues[sonar_issues_names]\n",
    "sonar_measures = sonar_measures[sonar_measures_names]"
   ],
   "outputs": [],
   "metadata": {}
  },
  {
   "cell_type": "markdown",
   "source": [
    "# Describe data"
   ],
   "metadata": {}
  },
  {
   "cell_type": "code",
   "execution_count": 54,
   "source": [
    "def describe_variables(dataframe):\n",
    "    '''\n",
    "    Objective:\n",
    "        - Obtain a stadistical summary of the variables\n",
    "    Input:\n",
    "        - Table with the selected columns\n",
    "    Output: \n",
    "        For continuous variables:\n",
    "            - Count : Number of non-null observations\n",
    "            - Mean : Mean of values\n",
    "            - Std : Standard Deviation of the Values\n",
    "            - min : Minimum Value\n",
    "            - Max : Maximum Value\n",
    "            - Percentiles 25%,50%,75%\n",
    "        For categorical variables:\n",
    "            - Count : Number of non-null observations\n",
    "            Unique : Number of classes\n",
    "            top : Class that has more ocurrences\n",
    "            freq : Ocurrences of the top class\n",
    "    '''\n",
    "    dataframe_cont = dataframe.select_dtypes(include=['float64'])\n",
    "    dataframe_cat = dataframe.select_dtypes(exclude=['float64'])\n",
    "    \n",
    "    cont_empty = dataframe_cont.empty\n",
    "    cat_empty = dataframe_cat.empty\n",
    "    \n",
    "    if not cont_empty and not cat_empty:\n",
    "        return (dataframe_cont.describe(), dataframe_cat.describe())\n",
    "    elif cont_empty and not cat_empty:\n",
    "        return (dataframe_cat.describe())\n",
    "    elif not cont_empty and cat_empty:\n",
    "        return (dataframe_cont.describe())\n",
    "    else:\n",
    "        assert 'The dataframe is empty!'\n",
    "\n",
    "def bar_plot(variable,dataframe,vertical):\n",
    "    ''' FALTA CANVIAR CODI I CANVIAR COMENTARIS\n",
    "    # Function that plots a barplot. \n",
    "        # The input parameters are: \n",
    "        # variable : data of the variable we want want to plot\n",
    "        # dataframe : All the table\n",
    "        # Vertical : Is we want to plot the bar chart vertical (True) or horizontal(False)\n",
    "    '''\n",
    "    labels = variable.unique()\n",
    "    count = np.zeros(len(labels))\n",
    "\n",
    "    for i in range(len(labels)):\n",
    "        count[i] = dataframe[variable== labels[i]].count()[0]\n",
    "    if vertical:\n",
    "        plt.barh(labels,count)\n",
    "    else:\n",
    "        plt.bar(labels,count)\n",
    "    plt.show()\n",
    "    \n",
    "def plot_histogram(dataframe):\n",
    "    '''\n",
    "    Objective:\n",
    "        - Plot a histogram of all numeric variables in dataframe\n",
    "    Input:\n",
    "        - Table with the selected columns\n",
    "    Output: \n",
    "        - \n",
    "    '''\n",
    "    dataframe = dataframe.select_dtypes(include=['float64'])\n",
    "    if dataframe.empty:\n",
    "        print(f'There are no numerical variables in dataframe')\n",
    "    else:\n",
    "        for col in dataframe.columns:\n",
    "            plt.hist(x=dataframe[col], color='#F2AB6D', rwidth=0.85)\n",
    "            plt.title(f'{col} histogram')\n",
    "            plt.xlabel(f'{col}')\n",
    "            plt.ylabel('Frequency')\n",
    "            plt.show()\n",
    "\n",
    "def plot_correlatinos(dataframe):\n",
    "    dataframe = dataframe.select_dtypes(include=['float64'])\n",
    "    if dataframe.empty:\n",
    "        print(f'There are no numerical variables in dataframe')\n",
    "    else:\n",
    "        corrMatrix = dataframe.corr()\n",
    "        sn.heatmap(corrMatrix, annot=True)\n",
    "        plt.show()"
   ],
   "outputs": [],
   "metadata": {}
  },
  {
   "cell_type": "markdown",
   "source": [
    "### Type of variables"
   ],
   "metadata": {}
  },
  {
   "cell_type": "code",
   "execution_count": 36,
   "source": [
    "print(\"---------- Git commits ----------\")\n",
    "git_commits[git_commits_names].dtypes"
   ],
   "outputs": [
    {
     "output_type": "stream",
     "name": "stdout",
     "text": [
      "---------- Git commits ----------\n"
     ]
    },
    {
     "output_type": "execute_result",
     "data": {
      "text/plain": [
       "PROJECT_ID       object\n",
       "COMMIT_HASH      object\n",
       "AUTHOR           object\n",
       "COMMITER_DATE    object\n",
       "dtype: object"
      ]
     },
     "metadata": {},
     "execution_count": 36
    }
   ],
   "metadata": {}
  },
  {
   "cell_type": "code",
   "execution_count": 37,
   "source": [
    "print(\"---------- Jira issues ----------\")\n",
    "jira_issues[jira_issues_names].dtypes"
   ],
   "outputs": [
    {
     "output_type": "stream",
     "name": "stdout",
     "text": [
      "---------- Jira issues ----------\n"
     ]
    },
    {
     "output_type": "execute_result",
     "data": {
      "text/plain": [
       "HASH    object\n",
       "dtype: object"
      ]
     },
     "metadata": {},
     "execution_count": 37
    }
   ],
   "metadata": {}
  },
  {
   "cell_type": "code",
   "execution_count": 38,
   "source": [
    "print(\"---------- Sonar analysis ----------\")\n",
    "sonar_analysis[sonar_analysis_names].dtypes"
   ],
   "outputs": [
    {
     "output_type": "stream",
     "name": "stdout",
     "text": [
      "---------- Sonar analysis ----------\n"
     ]
    },
    {
     "output_type": "execute_result",
     "data": {
      "text/plain": [
       "PROJECT_ID      object\n",
       "ANALYSIS_KEY    object\n",
       "REVISION        object\n",
       "dtype: object"
      ]
     },
     "metadata": {},
     "execution_count": 38
    }
   ],
   "metadata": {}
  },
  {
   "cell_type": "code",
   "execution_count": 39,
   "source": [
    "print(\"---------- Sonar issues ----------\")\n",
    "sonar_issues[sonar_issues_names].dtypes"
   ],
   "outputs": [
    {
     "output_type": "stream",
     "name": "stdout",
     "text": [
      "---------- Sonar issues ----------\n"
     ]
    },
    {
     "output_type": "execute_result",
     "data": {
      "text/plain": [
       "CREATION_ANALYSIS_KEY     object\n",
       "SEVERITY                  object\n",
       "STATUS                    object\n",
       "EFFORT                   float64\n",
       "START_LINE               float64\n",
       "END_LINE                 float64\n",
       "CLOSE_ANALYSIS_KEY        object\n",
       "dtype: object"
      ]
     },
     "metadata": {},
     "execution_count": 39
    }
   ],
   "metadata": {}
  },
  {
   "cell_type": "code",
   "execution_count": 40,
   "source": [
    "print(\"---------- Sonar measures ----------\")\n",
    "sonar_measures[sonar_measures_names].dtypes"
   ],
   "outputs": [
    {
     "output_type": "stream",
     "name": "stdout",
     "text": [
      "---------- Jira issues ----------\n"
     ]
    },
    {
     "output_type": "execute_result",
     "data": {
      "text/plain": [
       "analysis_key                 object\n",
       "cognitive_complexity        float64\n",
       "coverage                    float64\n",
       "duplicated_blocks             int64\n",
       "duplicated_files              int64\n",
       "duplicated_lines_density    float64\n",
       "wont_fix_issues               int64\n",
       "files                       float64\n",
       "comment_lines_density       float64\n",
       "dtype: object"
      ]
     },
     "metadata": {},
     "execution_count": 40
    }
   ],
   "metadata": {}
  },
  {
   "cell_type": "markdown",
   "source": [
    "### Basic statistics"
   ],
   "metadata": {}
  },
  {
   "cell_type": "code",
   "execution_count": 41,
   "source": [
    "#~~~~~~~~~~~~~~~~~~~~~~~~~~~~~~~~~~~~~~~~~~~~~~~~~~~~~~~~~~~~~~~~~~~~\n",
    "# Print basic statistics for the variables of interest for each table\n",
    "print(\"---------- Git commits ----------\")\n",
    "print(describe_variables(git_commits))"
   ],
   "outputs": [
    {
     "output_type": "stream",
     "name": "stdout",
     "text": [
      "---------- Git commits ----------\n",
      "              PROJECT_ID                               COMMIT_HASH  \\\n",
      "count              81072                                     81072   \n",
      "unique                31                                     81072   \n",
      "top     org.apache:felix  6a364664434431bef9434196c30aba12e3903d7e   \n",
      "freq               15427                                         1   \n",
      "\n",
      "                  AUTHOR         COMMITER_DATE  \n",
      "count              81038                 81072  \n",
      "unique               656                 80021  \n",
      "top     Carsten Ziegeler  2015-12-09T17:32:04Z  \n",
      "freq                5627                    20  \n"
     ]
    }
   ],
   "metadata": {}
  },
  {
   "cell_type": "code",
   "execution_count": 42,
   "source": [
    "print(\"---------- Jira issues ----------\")\n",
    "print(describe_variables(jira_issues))"
   ],
   "outputs": [
    {
     "output_type": "stream",
     "name": "stdout",
     "text": [
      "---------- Jira issues ----------\n",
      "                                            HASH\n",
      "count                                      22007\n",
      "unique                                        33\n",
      "top     a08b83add286f9bbd10e6d3671143281031d2d94\n",
      "freq                                        8285\n"
     ]
    }
   ],
   "metadata": {}
  },
  {
   "cell_type": "code",
   "execution_count": 43,
   "source": [
    "print(\"---------- Sonar analysis ----------\")\n",
    "print(describe_variables(sonar_analysis))"
   ],
   "outputs": [
    {
     "output_type": "stream",
     "name": "stdout",
     "text": [
      "---------- Sonar analysis ----------\n",
      "               PROJECT_ID          ANALYSIS_KEY  \\\n",
      "count               67550                 66711   \n",
      "unique                 31                 66711   \n",
      "top     org.apache:cocoon  AV3qyynBJIufLPH4zt2T   \n",
      "freq                10221                     1   \n",
      "\n",
      "                                        REVISION  \n",
      "count                                      67550  \n",
      "unique                                     67550  \n",
      "top     6a364664434431bef9434196c30aba12e3903d7e  \n",
      "freq                                           1  \n"
     ]
    }
   ],
   "metadata": {}
  },
  {
   "cell_type": "code",
   "execution_count": 44,
   "source": [
    "print(\"---------- Sonar issues ----------\")\n",
    "print(describe_variables(sonar_issues))"
   ],
   "outputs": [
    {
     "output_type": "stream",
     "name": "stdout",
     "text": [
      "---------- Sonar issues ----------\n",
      "(              EFFORT     START_LINE       END_LINE\n",
      "count  992704.000000  976750.000000  976750.000000\n",
      "mean       18.539828    3172.324335    3172.376519\n",
      "std       138.776940   15013.499251   15013.492272\n",
      "min         1.000000       1.000000       1.000000\n",
      "25%         2.000000      51.000000      51.000000\n",
      "50%         5.000000     135.000000     135.000000\n",
      "75%        14.000000     413.000000     413.000000\n",
      "max     92297.000000  138312.000000  138312.000000,        CREATION_ANALYSIS_KEY SEVERITY   STATUS    CLOSE_ANALYSIS_KEY\n",
      "count                1024614  1024614  1024614                798735\n",
      "unique                 18251        5        2                 16432\n",
      "top     AV1UBsiLt6tne_r59Tgv    MAJOR   CLOSED  AWRLNJb55esBcMsF1OWJ\n",
      "freq                   18879   493553   798745                 11079)\n"
     ]
    }
   ],
   "metadata": {}
  },
  {
   "cell_type": "code",
   "execution_count": 45,
   "source": [
    "print(\"---------- Sonar measures ----------\")\n",
    "print(describe_variables(sonar_measures))"
   ],
   "outputs": [
    {
     "output_type": "stream",
     "name": "stdout",
     "text": [
      "---------- Sonar measures ----------\n",
      "(       cognitive_complexity  coverage  duplicated_lines_density         files  \\\n",
      "count          66683.000000   66677.0              66685.000000  66685.000000   \n",
      "mean           15358.835625       0.0                 13.945580    959.724286   \n",
      "std            23938.099550       0.0                 14.696637   1064.191382   \n",
      "min                0.000000       0.0                  0.000000      1.000000   \n",
      "25%             1871.000000       0.0                  5.600000    184.000000   \n",
      "50%             4348.000000       0.0                  8.100000    464.000000   \n",
      "75%            21641.000000       0.0                 16.400000   1485.000000   \n",
      "max           121074.000000       0.0                 81.100000   4660.000000   \n",
      "\n",
      "       comment_lines_density  \n",
      "count           66685.000000  \n",
      "mean               21.820316  \n",
      "std                 7.922229  \n",
      "min                 4.900000  \n",
      "25%                16.600000  \n",
      "50%                20.600000  \n",
      "75%                26.900000  \n",
      "max                72.200000  ,        duplicated_blocks  duplicated_files  wont_fix_issues\n",
      "count       66711.000000      66711.000000          66711.0\n",
      "mean          947.564944        171.919878              0.0\n",
      "std          1586.592958        209.383370              0.0\n",
      "min             0.000000          0.000000              0.0\n",
      "25%           111.000000         28.000000              0.0\n",
      "50%           383.000000         97.000000              0.0\n",
      "75%           890.000000        215.000000              0.0\n",
      "max          9779.000000       1540.000000              0.0)\n"
     ]
    }
   ],
   "metadata": {}
  },
  {
   "cell_type": "markdown",
   "source": [
    "## Bar plots "
   ],
   "metadata": {}
  },
  {
   "cell_type": "code",
   "execution_count": 46,
   "source": [
    "#~~~~~~~~~~~~~~~~~~~~~~~~~~~~~~~~~~~~~~~~~~~~~~~~~~~~~~~~~~~~~~~~~~~~\n",
    "# Plot bar plots for the categorical variables with few values\n",
    "bar_plot(sonar_analysis[\"PROJECT_ID\"],sonar_analysis,True)"
   ],
   "outputs": [
    {
     "output_type": "display_data",
     "data": {
      "image/png": "[encoded data removed]",
      "text/plain": [
       "<Figure size 432x288 with 1 Axes>"
      ]
     },
     "metadata": {
      "needs_background": "light"
     }
    }
   ],
   "metadata": {}
  },
  {
   "cell_type": "code",
   "execution_count": 47,
   "source": [
    "bar_plot(sonar_issues[\"SEVERITY\"],sonar_issues,False)"
   ],
   "outputs": [
    {
     "output_type": "display_data",
     "data": {
      "image/png": "[encoded data removed]",
      "text/plain": [
       "<Figure size 432x288 with 1 Axes>"
      ]
     },
     "metadata": {
      "needs_background": "light"
     }
    }
   ],
   "metadata": {}
  },
  {
   "cell_type": "code",
   "execution_count": 48,
   "source": [
    "bar_plot(sonar_issues[\"STATUS\"],sonar_issues,False)"
   ],
   "outputs": [
    {
     "output_type": "display_data",
     "data": {
      "image/png": "[encoded data removed]",
      "text/plain": [
       "<Figure size 432x288 with 1 Axes>"
      ]
     },
     "metadata": {
      "needs_background": "light"
     }
    }
   ],
   "metadata": {}
  },
  {
   "cell_type": "markdown",
   "source": [
    "## Histogram plots "
   ],
   "metadata": {}
  },
  {
   "cell_type": "code",
   "execution_count": 49,
   "source": [
    "#~~~~~~~~~~~~~~~~~~~~~~~~~~~~~~~~~~~~~~~~~~~~~~~~~~~~~~~~~~~~~~~~~~~~\n",
    "# Plot histogram of all numeric variables in dataframe\n",
    "print(\"---------- Git commits ----------\")\n",
    "plot_histogram(git_commits)"
   ],
   "outputs": [
    {
     "output_type": "stream",
     "name": "stdout",
     "text": [
      "---------- Git commits ----------\n",
      "There are no numerical variables in dataframe\n"
     ]
    }
   ],
   "metadata": {}
  },
  {
   "cell_type": "code",
   "execution_count": 50,
   "source": [
    "print(\"---------- Jira issues ----------\")\n",
    "plot_histogram(jira_issues)"
   ],
   "outputs": [
    {
     "output_type": "stream",
     "name": "stdout",
     "text": [
      "---------- Jira issues ----------\n",
      "There are no numerical variables in dataframe\n"
     ]
    }
   ],
   "metadata": {}
  },
  {
   "cell_type": "code",
   "execution_count": 51,
   "source": [
    "print(\"---------- Sonar analysis ----------\")\n",
    "plot_histogram(sonar_analysis)"
   ],
   "outputs": [
    {
     "output_type": "stream",
     "name": "stdout",
     "text": [
      "---------- Sonar analysis ----------\n",
      "There are no numerical variables in dataframe\n"
     ]
    }
   ],
   "metadata": {}
  },
  {
   "cell_type": "code",
   "execution_count": 52,
   "source": [
    "print(\"---------- Sonar issues ----------\")\n",
    "plot_histogram(sonar_issues)"
   ],
   "outputs": [
    {
     "output_type": "stream",
     "name": "stdout",
     "text": [
      "---------- Sonar issues ----------\n"
     ]
    },
    {
     "output_type": "display_data",
     "data": {
      "image/png": "[encoded data removed]",
      "text/plain": [
       "<Figure size 432x288 with 1 Axes>"
      ]
     },
     "metadata": {
      "needs_background": "light"
     }
    },
    {
     "output_type": "display_data",
     "data": {
      "image/png": "[encoded data removed]",
      "text/plain": [
       "<Figure size 432x288 with 1 Axes>"
      ]
     },
     "metadata": {
      "needs_background": "light"
     }
    },
    {
     "output_type": "display_data",
     "data": {
      "image/png": "[encoded data removed]",
      "text/plain": [
       "<Figure size 432x288 with 1 Axes>"
      ]
     },
     "metadata": {
      "needs_background": "light"
     }
    }
   ],
   "metadata": {}
  },
  {
   "cell_type": "code",
   "execution_count": 53,
   "source": [
    "print(\"---------- Sonar measures ----------\")\n",
    "plot_histogram(sonar_measures)"
   ],
   "outputs": [
    {
     "output_type": "stream",
     "name": "stdout",
     "text": [
      "---------- Sonar measures ----------\n"
     ]
    },
    {
     "output_type": "display_data",
     "data": {
      "image/png": "[encoded data removed]",
      "text/plain": [
       "<Figure size 432x288 with 1 Axes>"
      ]
     },
     "metadata": {
      "needs_background": "light"
     }
    },
    {
     "output_type": "display_data",
     "data": {
      "image/png": "[encoded data removed]",
      "text/plain": [
       "<Figure size 432x288 with 1 Axes>"
      ]
     },
     "metadata": {
      "needs_background": "light"
     }
    },
    {
     "output_type": "display_data",
     "data": {
      "image/png": "[encoded data removed]",
      "text/plain": [
       "<Figure size 432x288 with 1 Axes>"
      ]
     },
     "metadata": {
      "needs_background": "light"
     }
    },
    {
     "output_type": "display_data",
     "data": {
      "image/png": "[encoded data removed]",
      "text/plain": [
       "<Figure size 432x288 with 1 Axes>"
      ]
     },
     "metadata": {
      "needs_background": "light"
     }
    },
    {
     "output_type": "display_data",
     "data": {
      "image/png": "[encoded data removed]",
      "text/plain": [
       "<Figure size 432x288 with 1 Axes>"
      ]
     },
     "metadata": {
      "needs_background": "light"
     }
    }
   ],
   "metadata": {}
  },
  {
   "cell_type": "markdown",
   "source": [
    "## Correlation plots "
   ],
   "metadata": {}
  },
  {
   "cell_type": "code",
   "execution_count": 55,
   "source": [
    "#~~~~~~~~~~~~~~~~~~~~~~~~~~~~~~~~~~~~~~~~~~~~~~~~~~~~~~~~~~~~~~~~~~~~\n",
    "# Plot correlation of all numeric variables in dataframe\n",
    "print(\"---------- Git commits ----------\")\n",
    "plot_correlatinos(git_commits)"
   ],
   "outputs": [
    {
     "output_type": "stream",
     "name": "stdout",
     "text": [
      "---------- Git commits ----------\n",
      "There are no numerical variables in dataframe\n"
     ]
    }
   ],
   "metadata": {}
  },
  {
   "cell_type": "code",
   "execution_count": 56,
   "source": [
    "print(\"---------- Jira issues ----------\")\n",
    "plot_correlatinos(jira_issues)"
   ],
   "outputs": [
    {
     "output_type": "stream",
     "name": "stdout",
     "text": [
      "---------- Jira issues ----------\n",
      "There are no numerical variables in dataframe\n"
     ]
    }
   ],
   "metadata": {}
  },
  {
   "cell_type": "code",
   "execution_count": 58,
   "source": [
    "print(\"---------- Sonar analysis ----------\")\n",
    "plot_correlatinos(sonar_analysis)"
   ],
   "outputs": [
    {
     "output_type": "stream",
     "name": "stdout",
     "text": [
      "---------- Sonar analysis ----------\n",
      "There are no numerical variables in dataframe\n"
     ]
    }
   ],
   "metadata": {}
  },
  {
   "cell_type": "code",
   "execution_count": 60,
   "source": [
    "print(\"---------- Sonar issues ----------\")\n",
    "plot_correlatinos(sonar_issues)"
   ],
   "outputs": [
    {
     "output_type": "stream",
     "name": "stdout",
     "text": [
      "---------- Sonar issues ----------\n"
     ]
    },
    {
     "output_type": "display_data",
     "data": {
      "image/png": "[encoded data removed]",
      "text/plain": [
       "<Figure size 432x288 with 2 Axes>"
      ]
     },
     "metadata": {
      "needs_background": "light"
     }
    }
   ],
   "metadata": {}
  },
  {
   "cell_type": "code",
   "execution_count": 61,
   "source": [
    "print(\"---------- Sonar measures ----------\")\n",
    "plot_correlatinos(sonar_measures)"
   ],
   "outputs": [
    {
     "output_type": "stream",
     "name": "stdout",
     "text": [
      "---------- Sonar measures ----------\n"
     ]
    },
    {
     "output_type": "display_data",
     "data": {
      "image/png": "[encoded data removed]",
      "text/plain": [
       "<Figure size 432x288 with 2 Axes>"
      ]
     },
     "metadata": {
      "needs_background": "light"
     }
    }
   ],
   "metadata": {}
  },
  {
   "cell_type": "code",
   "execution_count": null,
   "source": [],
   "outputs": [],
   "metadata": {}
  }
 ],
 "metadata": {
  "interpreter": {
   "hash": "31f2aee4e71d21fbe5cf8b01ff0e069b9275f58929596ceb00d14d90e3e16cd6"
  },
  "kernelspec": {
   "name": "python3",
   "display_name": "Python 3.8.2 64-bit"
  },
  "language_info": {
   "codemirror_mode": {
    "name": "ipython",
    "version": 3
   },
   "file_extension": ".py",
   "mimetype": "text/x-python",
   "name": "python",
   "nbconvert_exporter": "python",
   "pygments_lexer": "ipython3",
   "version": "3.8.2"
  }
 },
 "nbformat": 4,
 "nbformat_minor": 2
}