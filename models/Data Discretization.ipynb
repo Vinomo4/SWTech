{
 "cells": [
  {
   "cell_type": "code",
   "execution_count": 1,
   "metadata": {},
   "outputs": [],
   "source": [
    "# Import libraries and packages\n",
    "import numpy as np\n",
    "import pandas as pd\n",
    "import os\n",
    "from sklearn.preprocessing import KBinsDiscretizer\n",
    "from feature_engine.discretisation import DecisionTreeDiscretiser\n",
    "\n",
    "# Define path with .py codes containing functions used in this script\n",
    "os.getcwd()\n",
    "os.chdir( '../src/features')\n",
    "\n",
    "# Import useful functions for this script  \n",
    "from tracking import track\n",
    "\n",
    "track(\"-\"*25 + \"DATA DISCRETIZATION\" + \"-\"*25)"
   ]
  },
  {
   "cell_type": "markdown",
   "metadata": {},
   "source": [
    "# Reading data"
   ]
  },
  {
   "cell_type": "markdown",
   "metadata": {},
   "source": [
    "#### Define path to data files"
   ]
  },
  {
   "cell_type": "code",
   "execution_count": 2,
   "metadata": {},
   "outputs": [],
   "source": [
    "track(\"Defining path to data files\")\n",
    "\n",
    "# Define base path to data files\n",
    "path = '../../temp_data/'\n",
    "\n",
    "# Define path to the table that will be used in this project\n",
    "path_preprocess_data = path + 'model_data.csv'\n",
    "\n",
    "# Ensure the input file exist\n",
    "assert os.path.isfile(path_preprocess_data), f'{path_preprocess_data} not found. Is it a file?'"
   ]
  },
  {
   "cell_type": "markdown",
   "metadata": {},
   "source": [
    "#### Read the files"
   ]
  },
  {
   "cell_type": "code",
   "execution_count": 3,
   "metadata": {},
   "outputs": [],
   "source": [
    "# Read model_data table\n",
    "track(\"Reading files\")\n",
    "preprocess_data = pd.read_csv(path_preprocess_data)\n",
    "track(\"Finished reading files\")"
   ]
  },
  {
   "cell_type": "code",
   "execution_count": 4,
   "metadata": {},
   "outputs": [],
   "source": [
    "# Drop the column author name\n",
    "data = preprocess_data.iloc[:,1:len(preprocess_data.columns)]"
   ]
  },
  {
   "cell_type": "code",
   "execution_count": 5,
   "metadata": {},
   "outputs": [],
   "source": [
    "# Defining the columns to discretize.\n",
    "cont_cols = data.columns[1:]"
   ]
  },
  {
   "cell_type": "markdown",
   "metadata": {},
   "source": [
    "# Discretization methods "
   ]
  },
  {
   "cell_type": "code",
   "execution_count": 6,
   "metadata": {},
   "outputs": [],
   "source": [
    "def discretize_data(data,columns,method):\n",
    "    '''\n",
    "    Objective:\n",
    "        - Modify continous variables of the dataset into discrete ones using different methods.\n",
    "    Input:\n",
    "        - data: Dataset to be modified.\n",
    "        - columns: Name of the columns that contain continuous data.\n",
    "        - method: Discretization method to apply.\n",
    "    Output:\n",
    "        - Discretized dataset.\n",
    "    '''\n",
    "    df = data.copy()\n",
    "    # Unsupervised approaches.\n",
    "    if method == 1:\n",
    "        # K-Means \n",
    "        disc = KBinsDiscretizer(n_bins = 4, encode='ordinal', strategy='kmeans')\n",
    "        for col in columns:\n",
    "            disc.fit(df[[col]])\n",
    "            df[col] = disc.transform(df[[col]])\n",
    "    elif method == 2:\n",
    "        # Equal-Frequency\n",
    "        for col in columns:\n",
    "            df[col] = pd.qcut(df[col],4,labels = False, duplicates = \"drop\")\n",
    "    elif method == 3:\n",
    "        # Equal-Width\n",
    "        for col in columns:\n",
    "            df[col] = pd.cut(df[col],4,labels = False)\n",
    "    # Supervised approach.\n",
    "    # Decision tree classifier.\n",
    "    elif method == 4:\n",
    "        '''\n",
    "        X = df.drop([\"target\"],axis = 1)\n",
    "        Y = df[\"target\"]\n",
    "        disc = DecisionTreeDiscretiser(cv=10,\n",
    "                          scoring='accuracy',\n",
    "                          variables= columns,\n",
    "                          regression=False)\n",
    "        disc.fit(X,Y)\n",
    "        X = disc.transform(X)\n",
    "        df = df.concat([X,Y],axis = 1)\n",
    "        '''\n",
    "    return df"
   ]
  },
  {
   "cell_type": "code",
   "execution_count": null,
   "metadata": {},
   "outputs": [],
   "source": [
    "disc = discretize_data(data,cont_cols,2)\n",
    "track(\"Finished discretizing data\")"
   ]
  }
 ],
 "metadata": {
  "kernelspec": {
   "display_name": "Python 3",
   "language": "python",
   "name": "python3"
  },
  "language_info": {
   "codemirror_mode": {
    "name": "ipython",
    "version": 3
   },
   "file_extension": ".py",
   "mimetype": "text/x-python",
   "name": "python",
   "nbconvert_exporter": "python",
   "pygments_lexer": "ipython3",
   "version": "3.8.10"
  }
 },
 "nbformat": 4,
 "nbformat_minor": 4
}
