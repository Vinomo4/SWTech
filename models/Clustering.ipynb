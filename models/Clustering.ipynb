{
 "cells": [
  {
   "cell_type": "code",
   "execution_count": 1,
   "source": [
    "# Import libraries and packages\n",
    "import numpy as np\n",
    "import pandas as pd\n",
    "import os\n",
    "from sklearn.cluster import KMeans\n",
    "import matplotlib.pyplot as plt\n",
    "from sklearn import preprocessing\n",
    "from sklearn.metrics import silhouette_score\n",
    "from sklearn.cluster import KMeans\n",
    "from sklearn.decomposition import PCA\n",
    "\n",
    "# Define path with .py codes containing functions used in this script\n",
    "os.getcwd()\n",
    "os.chdir( '../src/features')\n",
    "\n",
    "# Import useful functions for this script  \n",
    "from tracking import track\n",
    "\n",
    "track(\"-\"*25 + \"CLUSTERING\" + \"-\"*25)"
   ],
   "outputs": [],
   "metadata": {}
  },
  {
   "cell_type": "markdown",
   "source": [
    "# Reading data"
   ],
   "metadata": {}
  },
  {
   "cell_type": "markdown",
   "source": [
    "#### Define path to data files"
   ],
   "metadata": {}
  },
  {
   "cell_type": "code",
   "execution_count": 2,
   "source": [
    "track(\"Defining path to data files\")\n",
    "\n",
    "# Define base path to data files\n",
    "path = '../../temp_data/'\n",
    "\n",
    "# Define path to the table that will be used in this project\n",
    "path_preprocess_data = path + 'model_data.csv'\n",
    "\n",
    "# Ensure the input file exist\n",
    "assert os.path.isfile(path_preprocess_data), f'{path_preprocess_data} not found. Is it a file?'"
   ],
   "outputs": [],
   "metadata": {}
  },
  {
   "cell_type": "markdown",
   "source": [
    "#### Read the files"
   ],
   "metadata": {}
  },
  {
   "cell_type": "code",
   "execution_count": 3,
   "source": [
    "# Read model_data table\n",
    "track(\"Reading files\")\n",
    "preprocess_data = pd.read_csv(path_preprocess_data)\n",
    "track(\"Finished reading files\")"
   ],
   "outputs": [],
   "metadata": {}
  },
  {
   "cell_type": "code",
   "execution_count": 4,
   "source": [
    "# Drop the column author name    TODO\n",
    "data = preprocess_data.iloc[:,2:len(preprocess_data.columns)]"
   ],
   "outputs": [],
   "metadata": {}
  },
  {
   "cell_type": "markdown",
   "source": [
    "# Model"
   ],
   "metadata": {}
  },
  {
   "cell_type": "code",
   "execution_count": 5,
   "source": [
    "def save_plot(fig,type_model,filename):\n",
    "    '''\n",
    "    Objective:\n",
    "        - Save plots\n",
    "    Input:\n",
    "        - fig: Figure we want to save\n",
    "        - type_model: K-means\n",
    "        - filename: Name of the file \n",
    "    Output:\n",
    "        - None\n",
    "    '''  \n",
    "    # Path and name of the file/figure we want to save\n",
    "    path = '../../reports/figures/models'+\"/\"+type_model\n",
    "    file_name = path+\"/\"+filename+\".png\"\n",
    "    # Directory creation if doesn't exists\n",
    "    try:\n",
    "        os.makedirs(path)\n",
    "    except OSError:\n",
    "        pass\n",
    "    else:\n",
    "        track(\"Successfully created the directory %s\" % path)\n",
    "\n",
    "    # Save the figure/file\n",
    "    if (os.path.exists(file_name)== True):\n",
    "        track (\"Warning: Figure %s already created\" % path)\n",
    "        track('Figure will be overwritten')\n",
    "        plt.savefig(file_name, transparent=True)\n",
    "    else:\n",
    "        plt.savefig(file_name, transparent=True)\n",
    "    track(\"Successfully saved %s\" % path)\n",
    "\n",
    "def normalize_data(data):\n",
    "    # TODO: COMPROVAR VAR\n",
    "    '''\n",
    "    Objective:\n",
    "        - Normalize data with the MinMaxScaler method\n",
    "    Input:\n",
    "        - dataset: Pandas dataframe \n",
    "    Output:\n",
    "        - min_max_Scalar_df: Normalized data\n",
    "    '''    \n",
    "    min_max_Scalar = preprocessing.MinMaxScaler()\n",
    "    col = data.columns\n",
    "    result = min_max_Scalar.fit_transform(data)\n",
    "    min_max_Scalar_df = pd.DataFrame(result, columns=col)\n",
    "    return min_max_Scalar_df\n",
    "\n",
    "def f_silhouette_score(dataset,total_clusters):\n",
    "    '''\n",
    "    Objective:\n",
    "        - Compute the silhouette_score\n",
    "    Input:\n",
    "        - dataset: Normalized dataframe \n",
    "        - total_clusters: Maximum number of clusters\n",
    "    Output:\n",
    "        - Number of clusters that has the biggest value of silhouette_score\n",
    "    '''       \n",
    "    max_value = 0\n",
    "    k = 0\n",
    "    for n_cluster in range(2, total_clusters):\n",
    "        kmeans = KMeans(n_clusters=n_cluster).fit(dataset)\n",
    "        label = kmeans.labels_\n",
    "        sil_coeff = silhouette_score(dataset, label, metric='euclidean')\n",
    "        if sil_coeff > max_value:\n",
    "            max_value = sil_coeff\n",
    "            k = n_cluster\n",
    "        track(\"For n_clusters={}, The Silhouette Coefficient is {}\".format(n_cluster, sil_coeff))\n",
    "    print(\"silhouette_score\", max_value)\n",
    "    return k\n",
    "\n",
    "def WCSS_and_Elbow_Method(dataset,total_k):\n",
    "    '''\n",
    "    Objective:\n",
    "        - Compute the WCSS_and_Elbow_Method\n",
    "    Input:\n",
    "        - dataset: Normalized dataframe \n",
    "        - total_clusters: Maximum number of clusters\n",
    "    Output:\n",
    "        - Save the plot of number of clusters vs inertia\n",
    "    '''        \n",
    "    wcss=[]\n",
    "    for i in range(1,total_k):\n",
    "        # Kmeans with i clusters\n",
    "        kmeans = KMeans(i)\n",
    "        kmeans.fit(dataset)\n",
    "        # Compute the inertia\n",
    "        inertia = kmeans.inertia_        \n",
    "\n",
    "        # Save the inertia of each iteration\n",
    "        wcss.append(inertia)  \n",
    "\n",
    "    # Plot the number of clusters vs inertia \n",
    "    number_clusters = range(1,total_k)\n",
    "    fig = plt.plot(number_clusters,wcss, 'bx-')\n",
    "    plt.title('WCSS and Elbow Method')\n",
    "    plt.xlabel('Number of clusters (k)')\n",
    "    plt.ylabel('WCSS (Elbow Method For Optimal k)')\n",
    "    save_plot(fig,\"K-means\",'WCSS_and_Elbow_Method')\n",
    "\n",
    "\n",
    "def define_num_clusters(dataset,total_k):  # TODO: AGAFAR MIN 4 CLUSTERS\n",
    "    '''\n",
    "    Objective:\n",
    "        - Compute the optimal number of clusters with WCSS and Elbow Method and silhouette_score\n",
    "    Input:\n",
    "        - dataset: Normalized dataframe \n",
    "        - total_k : Maximum number of clusters to be used \n",
    "    Output:\n",
    "        - The cluster number of each row\n",
    "    '''\n",
    "    # Compute the inertia and plot the graphic between insertia ans number of clusters\n",
    "    WCSS_and_Elbow_Method(dataset,total_k)\n",
    "\n",
    "    # Choosing the number of clusters with the silhouette_score\n",
    "    number_of_clusters = f_silhouette_score(dataset,total_k)\n",
    "    \n",
    "    # TODO: AGAFAR MIN 4 CLUSTERS\n",
    "\n",
    "    #Once selected the number of clusters, compute the cluster of each row and added to the dataframe\n",
    "    kmeans = KMeans(number_of_clusters)\n",
    "    kmeans.fit(dataset)\n",
    "    identified_clusters = kmeans.fit_predict(dataset)\n",
    "    iner = kmeans.inertia_\n",
    "    print(\"total inertia\", iner)  # TODO: track\n",
    "    print(\"Number of clusters\", number_of_clusters)  # TODO: track\n",
    "    return (identified_clusters,number_of_clusters)\n",
    "\n",
    "def Compute_PCA(dataset):\n",
    "    '''\n",
    "    Objective:\n",
    "        - Compute PCA \n",
    "    Input:\n",
    "        - dataset: Normalized dataframe \n",
    "    Output:\n",
    "        - PCA data\n",
    "    '''\n",
    "    track('Performing PCA on dataset ...')\n",
    "    # Take the number of components that explain more than a 0.955% of the variance  # TODO: NO CAL FER BUCLE\n",
    "    for i in range(len(dataset.columns)):\n",
    "        pca = PCA(n_components=i)\n",
    "        principal_components = pca.fit_transform(dataset)\n",
    "        if (sum(pca.explained_variance_ratio_) > 0.955):\n",
    "            n = i\n",
    "            track(\"PCA components:{}\".format(n))\n",
    "            break\n",
    "        \n",
    "    # Compute the pca with the number of components chosen\n",
    "    pca = PCA(n_components=n)\n",
    "    principal_components = pca.fit_transform(dataset)\n",
    "    pca_df = pd.DataFrame(data = principal_components)\n",
    "    track(\"explained variance in PCA:{}\".format(sum(pca.explained_variance_ratio_)))\n",
    "    print(\"explained variance in PCA:{}\".format(sum(pca.explained_variance_ratio_)))    # borrar aquesta i al següent linea\n",
    "    print(\"PCA components:{}\".format(n))\n",
    "    return pca_df\n"
   ],
   "outputs": [],
   "metadata": {}
  },
  {
   "cell_type": "markdown",
   "source": [
    "#### K-means with normalized data"
   ],
   "metadata": {}
  },
  {
   "cell_type": "code",
   "execution_count": 6,
   "source": [
    "track(\"Starting normalizing data\")\n",
    "# Normalize data\n",
    "normalize_data = normalize_data(data)\n",
    "track(\"Finished normalizing data\")"
   ],
   "outputs": [],
   "metadata": {}
  },
  {
   "cell_type": "code",
   "execution_count": 7,
   "source": [
    "# Compute the number of clusters and which cluster is every author\n",
    "track(\"Starting WCSS and Elbow method for choosing the number of clusters\")\n",
    "clusters, number_of_clusters = define_num_clusters(normalize_data,12)\n",
    "track(\"Finished WCSS and Elbow method for choosing the number of clusters\")"
   ],
   "outputs": [
    {
     "output_type": "stream",
     "name": "stdout",
     "text": [
      "silhouette_score 0.6787093724910817\n",
      "total inertia 143.2709997465127\n",
      "Number of clusters 2\n"
     ]
    },
    {
     "output_type": "display_data",
     "data": {
      "image/png": "[encoded data removed]",
      "text/plain": [
       "<Figure size 432x288 with 1 Axes>"
      ]
     },
     "metadata": {
      "needs_background": "light"
     }
    }
   ],
   "metadata": {}
  },
  {
   "cell_type": "markdown",
   "source": [
    "#### K-means with PCA data"
   ],
   "metadata": {}
  },
  {
   "cell_type": "code",
   "execution_count": 9,
   "source": [
    "# Compute PCA\n",
    "track(\"Starting to compute PCA\")\n",
    "PCA_data = Compute_PCA(normalize_data)\n",
    "track(\"Finished computing PCA\")"
   ],
   "outputs": [
    {
     "output_type": "stream",
     "name": "stdout",
     "text": [
      "explained variance in PCA:0.9557306910863511\n",
      "PCA components:10\n"
     ]
    }
   ],
   "metadata": {}
  },
  {
   "cell_type": "code",
   "execution_count": 11,
   "source": [
    "# Compute the number of clusters and which cluster is every author\n",
    "track(\"Starting WCSS and Elbow method for choosing the number of clusters\")\n",
    "clusters, number_of_clusters = define_num_clusters(PCA_data,12)\n",
    "track(\"Finished WCSS and Elbow method for choosing the number of clusters\")"
   ],
   "outputs": [
    {
     "output_type": "stream",
     "name": "stdout",
     "text": [
      "silhouette_score 0.6980355103232093\n",
      "total inertia 127.5309117049738\n",
      "Number of clusters 2\n"
     ]
    },
    {
     "output_type": "display_data",
     "data": {
      "image/png": "[encoded data removed]",
      "text/plain": [
       "<Figure size 432x288 with 1 Axes>"
      ]
     },
     "metadata": {
      "needs_background": "light"
     }
    }
   ],
   "metadata": {}
  },
  {
   "cell_type": "code",
   "execution_count": null,
   "source": [],
   "outputs": [],
   "metadata": {}
  }
 ],
 "metadata": {
  "orig_nbformat": 4,
  "language_info": {
   "name": "python",
   "version": "3.8.8",
   "mimetype": "text/x-python",
   "codemirror_mode": {
    "name": "ipython",
    "version": 3
   },
   "pygments_lexer": "ipython3",
   "nbconvert_exporter": "python",
   "file_extension": ".py"
  },
  "kernelspec": {
   "name": "python3",
   "display_name": "Python 3.8.8 64-bit ('base': conda)"
  },
  "interpreter": {
   "hash": "97ae39bdf9f9f60222110ce643fc97af34b2e86ea8c940aeba439462a73bdadf"
  }
 },
 "nbformat": 4,
 "nbformat_minor": 2
}