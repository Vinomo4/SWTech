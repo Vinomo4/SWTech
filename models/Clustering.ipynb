{
 "cells": [
  {
   "cell_type": "code",
   "execution_count": 1,
   "source": [
    "# Import libraries and packages\n",
    "import numpy as np\n",
    "import pandas as pd\n",
    "import os\n",
    "from sklearn.preprocessing import MinMaxScaler, StandardScaler\n",
    "from sklearn.decomposition import PCA\n",
    "from umap import UMAP\n",
    "from sklearn.cluster import KMeans\n",
    "import matplotlib.pyplot as plt\n",
    "from sklearn.metrics import silhouette_score\n",
    "import seaborn as sns\n",
    "import sklearn\n",
    "\n",
    "# Define path with .py codes containing functions used in this script\n",
    "os.getcwd()\n",
    "os.chdir( '../src/features')\n",
    "\n",
    "# Import useful functions for this script  \n",
    "from tracking import track\n",
    "\n",
    "track(\"-\"*25 + \"CLUSTERING\" + \"-\"*25)"
   ],
   "outputs": [],
   "metadata": {}
  },
  {
   "cell_type": "markdown",
   "source": [
    "# Reading data"
   ],
   "metadata": {}
  },
  {
   "cell_type": "markdown",
   "source": [
    "#### Define path to data files"
   ],
   "metadata": {}
  },
  {
   "cell_type": "code",
   "execution_count": 2,
   "source": [
    "track(\"Defining path to data files\")\n",
    "\n",
    "# Define base path to data files\n",
    "path = '../../temp_data/'\n",
    "\n",
    "# Define path to the preprocesseded dataset that will be used in this script\n",
    "path_preprocessed_data = path + 'model_data.csv'\n",
    "\n",
    "# Ensure the input file exists\n",
    "assert os.path.isfile(path_preprocessed_data), f'{path_preprocessed_data} not found. Is it a file?'"
   ],
   "outputs": [],
   "metadata": {}
  },
  {
   "cell_type": "markdown",
   "source": [
    "#### Read the files"
   ],
   "metadata": {}
  },
  {
   "cell_type": "code",
   "execution_count": 3,
   "source": [
    "# Read table with preprocesseded data that will be used in this script\n",
    "track(\"Reading preprocessed data\")\n",
    "preprocessed_data = pd.read_csv(path_preprocessed_data)\n",
    "track(\"Finished reading preprocessed data\")"
   ],
   "outputs": [],
   "metadata": {}
  },
  {
   "cell_type": "code",
   "execution_count": 4,
   "source": [
    "# Drop the column containing the name of the author\n",
    "data = preprocessed_data.loc[:, preprocessed_data.columns != 'author']\n",
    "track(\"Author column was dropped\")"
   ],
   "outputs": [],
   "metadata": {}
  },
  {
   "cell_type": "markdown",
   "source": [
    "# Model"
   ],
   "metadata": {}
  },
  {
   "cell_type": "code",
   "execution_count": 5,
   "source": [
    "def save_plot(fig,type_model,filename):\n",
    "    '''\n",
    "    Objective:\n",
    "        - Save plots\n",
    "    Input:\n",
    "        - fig: figure we want to save\n",
    "        - type_model: K-means\n",
    "        - filename: Name of the file \n",
    "    Output:\n",
    "        - None\n",
    "    '''\n",
    "\n",
    "    # Path and name of the file/figure we want to save\n",
    "    path = '../../reports/figures/models'+\"/\"+type_model\n",
    "    file_name = path+\"/\"+filename+\".png\"\n",
    "    # Directory creation if doesn't exists\n",
    "    try:\n",
    "        os.makedirs(path)\n",
    "    except OSError:\n",
    "        pass\n",
    "    else:\n",
    "        track(\"Successfully created the directory %s\" % path)\n",
    "\n",
    "    # Save the figure/file\n",
    "    if (os.path.exists(file_name)== True):\n",
    "        track (\"Warning: Figure %s already created\" % path)\n",
    "        track('Figure will be overwritten')\n",
    "        plt.savefig(file_name, transparent=True)\n",
    "    else:\n",
    "        plt.savefig(file_name, transparent=True)\n",
    "    track(\"Successfully saved %s\" % path)\n",
    "\n",
    "def transform_dataset(dataset, type):\n",
    "    '''\n",
    "    Objective:\n",
    "        - Scales and translates each feature individually such that it is in the given range on the training set, e.g. between zero and one.\n",
    "    Input:\n",
    "        - dataset: Pandas dataframe \n",
    "        - type: \"min_max\" or \"standard\"\n",
    "    Output:\n",
    "        - Transformed data\n",
    "    '''\n",
    "    if type == \"min_max\":\n",
    "        transformer = MinMaxScaler()\n",
    "    elif type == \"standard\":\n",
    "        transformer = StandardScaler()\n",
    "    else:\n",
    "        print(\"The type of transformation {} is not supported. The supported transformations are: min_max and standard\".format(type))\n",
    "    col = dataset.columns\n",
    "    result = transformer.fit_transform(dataset)\n",
    "    transformed_data = pd.DataFrame(result, columns=col)\n",
    "\n",
    "    return transformed_data\n",
    "\n",
    "def f_silhouette_score(dataset,total_clusters):\n",
    "    '''\n",
    "    Objective:\n",
    "        - Compute the silhouette_score\n",
    "    Input:\n",
    "        - dataset: Normalized dataframe \n",
    "        - total_clusters: Maximum number of clusters\n",
    "    Output:\n",
    "        - Number of clusters that has the biggest value of silhouette_score\n",
    "    '''      \n",
    "\n",
    "    max_value = 0\n",
    "    k = 0\n",
    "    for n_cluster in range(2, total_clusters):\n",
    "        kmeans = KMeans(n_clusters=n_cluster).fit(dataset)\n",
    "        label = kmeans.labels_\n",
    "        sil_coeff = silhouette_score(dataset, label, metric='euclidean')\n",
    "        sil_coeff = silhouette_score(dataset, label, metric='euclidean')\n",
    "        sil_coeff = silhouette_score(dataset, label, metric='euclidean')\n",
    "        if sil_coeff > max_value:\n",
    "            max_value = sil_coeff\n",
    "            k = n_cluster\n",
    "        track(\"For n_clusters={}, The Silhouette Coefficient is {}\".format(n_cluster, sil_coeff))\n",
    "    print(\"silhouette_score\", max_value)\n",
    "    \n",
    "    return k, max_value\n",
    "\n",
    "def WCSS_and_Elbow_Method(dataset,max_k):\n",
    "    '''\n",
    "    Objective:\n",
    "        - Compute the WCSS_and_Elbow_Method\n",
    "    Input:\n",
    "        - dataset: Normalized dataframe \n",
    "        - total_clusters: Maximum number of clusters\n",
    "    Output:\n",
    "        - Save the plot of number of clusters vs inertia\n",
    "    '''\n",
    "\n",
    "    wcss=[]\n",
    "    for i in range(1,max_k):\n",
    "        # Kmeans with i clusters\n",
    "        kmeans = KMeans(i)\n",
    "        kmeans.fit(dataset)\n",
    "        # Compute the inertia\n",
    "        inertia = kmeans.inertia_        \n",
    "\n",
    "        # Save the inertia of each iteration\n",
    "        wcss.append(inertia)  \n",
    "\n",
    "    # Plot the number of clusters vs inertia \n",
    "    number_clusters = range(1,max_k)\n",
    "    fig = plt.plot(number_clusters,wcss, 'bx-')\n",
    "    plt.title('WCSS and Elbow Method')\n",
    "    plt.xlabel('Number of clusters (k)')\n",
    "    plt.ylabel('WCSS (Elbow Method For Optimal k)')\n",
    "    save_plot(fig,\"K-means\",'WCSS_and_Elbow_Method')\n",
    "\n",
    "\n",
    "def define_num_clusters(dataset, min_k, max_k): \n",
    "    '''\n",
    "    Objective:\n",
    "        - Compute the optimal number of clusters with WCSS and Elbow Method and silhouette_score\n",
    "    Input:\n",
    "        - dataset: scaled dataframe \n",
    "        - min_k: minimum number of clusters to be used\n",
    "        - max_k : maximum number of clusters to be used \n",
    "    Output:\n",
    "        - List containing the cluster assigned to each row\n",
    "    '''\n",
    "\n",
    "    # To ensure reproducibility\n",
    "    np.random.seed(0)\n",
    "\n",
    "    # Compute the inertia and plot the graphic between insertia ans number of clusters\n",
    "    WCSS_and_Elbow_Method(dataset,max_k)\n",
    "\n",
    "    # Choosing the number of clusters with the silhouette_score\n",
    "    number_of_clusters, silhouette = f_silhouette_score(dataset,max_k)\n",
    "    \n",
    "    # Change the number of clusters to min_k if the number selected was smaller than this number\n",
    "    if number_of_clusters < min_k:\n",
    "        print('Number of clusters changed to', min_k)\n",
    "        number_of_clusters = min_k\n",
    "\n",
    "    # Once selected the number of clusters, compute the cluster of each row and added to the dataframe\n",
    "    kmeans = KMeans(number_of_clusters)\n",
    "    kmeans.fit(dataset)\n",
    "    identified_clusters = kmeans.fit_predict(dataset)\n",
    "    iner = kmeans.inertia_\n",
    "    print(\"total inertia\", iner)\n",
    "    print(\"Number of clusters\", number_of_clusters)\n",
    "    \n",
    "    return (identified_clusters,number_of_clusters,silhouette)\n",
    "\n",
    "def compute_PCA(dataset, min_var):\n",
    "    '''\n",
    "    Objective:\n",
    "        - Compute PCA \n",
    "    Input:\n",
    "        - dataset: min max scaled dataframe \n",
    "        - min_var: minimum explained variance\n",
    "    Output:\n",
    "        - PCA data\n",
    "    '''\n",
    "    track('Performing PCA on dataset ...')\n",
    "    # Take the number of components that explain more than a 0.955% of the variance\n",
    "    pca = PCA(n_components = min_var)\n",
    "    principal_components = pca.fit_transform(dataset)\n",
    "    pca_df = pd.DataFrame(data = principal_components)\n",
    "    track(\"explained variance in PCA:{}\".format(sum(pca.explained_variance_ratio_)))\n",
    "    print(\"explained variance in PCA:{}\".format(sum(pca.explained_variance_ratio_)))\n",
    "    print(\"PCA components:{}\".format(pca_df.shape[1]))\n",
    "    \n",
    "    return pca_df\n",
    "\n",
    "def compute_UMAP(dataset,n_neighbors,min_dist,n_components):\n",
    "    '''\n",
    "    Objective:\n",
    "        - Compute UMAP \n",
    "    Input:\n",
    "        - dataset: standardized dataframe \n",
    "        - n_neighbors: controls how UMAP balances local versus global structure in the data\n",
    "        - min_dist: minimum distance apart that points are allowed to be in the low dimensional representation\n",
    "        - n_components: dimensionality of the reduced dimension space\n",
    "    Output:\n",
    "        - UMAP data\n",
    "    '''\n",
    "    track('Performing UMAP on dataset ...')\n",
    "    reducer = UMAP(n_neighbors=n_neighbors,min_dist=min_dist,n_components=n_components,random_state=0)\n",
    "    reduced_data = reducer.fit_transform(dataset)\n",
    "    UMAP_df = pd.DataFrame(data = reduced_data)\n",
    "\n",
    "    return UMAP_df\n",
    "\n",
    "\n",
    "def plot_clusters(clusters, min_max_data, standardized_data,type):\n",
    "    '''\n",
    "    Objective:\n",
    "        - Compute the PCA or UMAP plot\n",
    "    Input:\n",
    "        - clusters: Vector that contains the number of cluster each author belongs\n",
    "        - min_max_data: Standardized data with MinMaxScaler\n",
    "        - standardized_data: Standardized data with StandardScaler\n",
    "    Output:\n",
    "        - Save the PCA or UMAP plot\n",
    "    '''\n",
    "    clusters = pd.Series(clusters)\n",
    "    \n",
    "    if type == \"PCA\":\n",
    "        pca = PCA(n_components=2)\n",
    "        ## Perform PCA \n",
    "        # Fit the PCA to the data, and then transform the data into its principal components\n",
    "        principal_components = pca.fit_transform(min_max_data)\n",
    "        plots = 1\n",
    "    \n",
    "    elif type == \"UMAP\":\n",
    "        ## Perform UMAP\n",
    "        # Fit the UMAP to the data, and then transform the data into its principal components\n",
    "        reducer = UMAP(n_neighbors=40,min_dist=0.01,n_components=2,random_state=0)\n",
    "        principal_components = reducer.fit_transform(standardized_data)\n",
    "        plots = 1\n",
    "    else:\n",
    "        plots = 2\n",
    "    \n",
    "    for i in range(plots):\n",
    "        if type == \"None\":\n",
    "            if i == 0:\n",
    "                ## Perform PCA\n",
    "                pca = PCA(n_components=2)\n",
    "                principal_components = pca.fit_transform(min_max_data)\n",
    "            else:\n",
    "                ## Perform UMAP\n",
    "                reducer = UMAP(n_neighbors=40,min_dist=0.01,n_components=2,random_state=0)\n",
    "                principal_components = reducer.fit_transform(standardized_data)\n",
    "              \n",
    "\n",
    "        # Dataframe of the two principal_components\n",
    "        pcs_df = pd.DataFrame(data = principal_components, columns = ['principal component 1', 'principal component 2'])\n",
    "        ## Concatenate the labels as the last dimension of the principal components to create the results dataframe\n",
    "        results_df = pd.concat([pcs_df, clusters], axis=1)\n",
    "        results_df.columns = ['principal component 1', 'principal component 2', 'labels']\n",
    "        plt.figure()\n",
    "        f = sns.scatterplot(x='principal component 1', y='principal component 2', hue=clusters, data=results_df, linewidth=0, palette='Set2')\n",
    "        plt.xlabel('Principal Component 1', fontsize = 12)\n",
    "        plt.ylabel('Principal Component 2', fontsize = 12)\n",
    "        if type == \"UMAP\" or type == \"PCA\":\n",
    "            plt.title('{} Results'.format(type), fontsize = 12)\n",
    "            plt.grid()\n",
    "            plt.show()\n",
    "            save_plot(f,type,\"plot_\"+type)\n",
    "            plt.close()\n",
    "        else:\n",
    "            if i == 0:\n",
    "                plt.title('PCA Results', fontsize = 12)  \n",
    "                plt.grid()\n",
    "                plt.show()\n",
    "                save_plot(f,\"PCA\",\"plot_PCA\")\n",
    "                plt.close()\n",
    "            else:\n",
    "                plt.title('UMAP Results', fontsize = 12) \n",
    "                plt.grid()\n",
    "                plt.show()\n",
    "                save_plot(f,\"UMAP\",\"plot_UMAP\")\n",
    "                plt.close()\n",
    "    "
   ],
   "outputs": [],
   "metadata": {}
  },
  {
   "cell_type": "markdown",
   "source": [
    "#### K-means with normalized data"
   ],
   "metadata": {}
  },
  {
   "cell_type": "code",
   "execution_count": 6,
   "source": [
    "track(\"Starting mix max scaling of data\")\n",
    "# Min max scaling of data\n",
    "track(\"Finished mix max scaling of data\")\n",
    "min_max_data = transform_dataset(data,type=\"min_max\")"
   ],
   "outputs": [],
   "metadata": {}
  },
  {
   "cell_type": "code",
   "execution_count": 7,
   "source": [
    "# Compute the number of clusters and which cluster is every author\n",
    "track(\"Starting WCSS and Elbow method for choosing the number of clusters\")\n",
    "clusters_none , number_of_clusters_none , silhouette_none = define_num_clusters(min_max_data,min_k=5, max_k=12)\n",
    "track(\"Finished WCSS and Elbow method for choosing the number of clusters\")"
   ],
   "outputs": [
    {
     "output_type": "stream",
     "name": "stdout",
     "text": [
      "silhouette_score 0.6778298218106921\n",
      "Number of clusters changed to 5\n",
      "total inertia 85.8531079964252\n",
      "Number of clusters 5\n"
     ]
    },
    {
     "output_type": "display_data",
     "data": {
      "image/png": "[encoded data removed]",
      "text/plain": [
       "<Figure size 432x288 with 1 Axes>"
      ]
     },
     "metadata": {
      "needs_background": "light"
     }
    }
   ],
   "metadata": {}
  },
  {
   "cell_type": "markdown",
   "source": [
    "#### K-means with PCA data"
   ],
   "metadata": {}
  },
  {
   "cell_type": "code",
   "execution_count": 8,
   "source": [
    "# Compute PCA\n",
    "track(\"Starting to compute PCA\")\n",
    "PCA_data = compute_PCA(min_max_data, min_var=0.95)\n",
    "track(\"Finished computing PCA\")"
   ],
   "outputs": [
    {
     "output_type": "stream",
     "name": "stdout",
     "text": [
      "explained variance in PCA:0.9538823881605285\n",
      "PCA components:10\n"
     ]
    }
   ],
   "metadata": {}
  },
  {
   "cell_type": "code",
   "execution_count": 9,
   "source": [
    "# Compute the number of clusters and which cluster is every author\n",
    "track(\"Starting WCSS and Elbow method for choosing the number of clusters\")\n",
    "clusters_PCA, number_of_clusters_PCA, silhouette_PCA = define_num_clusters(PCA_data,min_k=5,max_k=12)\n",
    "track(\"Finished WCSS and Elbow method for choosing the number of clusters\")"
   ],
   "outputs": [
    {
     "output_type": "stream",
     "name": "stdout",
     "text": [
      "silhouette_score 0.6979909292706112\n",
      "Number of clusters changed to 5\n",
      "total inertia 70.02559414226039\n",
      "Number of clusters 5\n"
     ]
    },
    {
     "output_type": "display_data",
     "data": {
      "image/png": "[encoded data removed]",
      "text/plain": [
       "<Figure size 432x288 with 1 Axes>"
      ]
     },
     "metadata": {
      "needs_background": "light"
     }
    }
   ],
   "metadata": {}
  },
  {
   "cell_type": "markdown",
   "source": [
    "#### K-means with UMAP data"
   ],
   "metadata": {}
  },
  {
   "cell_type": "code",
   "execution_count": 10,
   "source": [
    "track(\"Starting standardization of data\")\n",
    "# Standardization of data\n",
    "track(\"Finished standardization of data\")\n",
    "standardized_data = transform_dataset(data,type=\"standard\")"
   ],
   "outputs": [],
   "metadata": {}
  },
  {
   "cell_type": "code",
   "execution_count": 11,
   "source": [
    "# Compute UMAP\n",
    "track(\"Starting to compute UMAP\")\n",
    "UMAP_data = compute_UMAP(standardized_data,n_neighbors=40,min_dist=0.01,n_components=10)\n",
    "track(\"Finished computing UMAP\")"
   ],
   "outputs": [],
   "metadata": {}
  },
  {
   "cell_type": "code",
   "execution_count": 12,
   "source": [
    "# Compute the number of clusters and which cluster is every author\n",
    "track(\"Starting WCSS and Elbow method for choosing the number of clusters\")\n",
    "clusters_UMAP, number_of_clusters_UMAP, silhouette_UMAP = define_num_clusters(UMAP_data,min_k=5,max_k=12)\n",
    "track(\"Finished WCSS and Elbow method for choosing the number of clusters\")"
   ],
   "outputs": [
    {
     "output_type": "stream",
     "name": "stdout",
     "text": [
      "silhouette_score 0.775714\n",
      "Number of clusters changed to 5\n",
      "total inertia 153.24295043945312\n",
      "Number of clusters 5\n"
     ]
    },
    {
     "output_type": "display_data",
     "data": {
      "image/png": "[encoded data removed]",
      "text/plain": [
       "<Figure size 432x288 with 1 Axes>"
      ]
     },
     "metadata": {
      "needs_background": "light"
     }
    }
   ],
   "metadata": {}
  },
  {
   "cell_type": "code",
   "execution_count": 15,
   "source": [
    "if silhouette_PCA > silhouette_UMAP and silhouette_PCA > silhouette_none:\n",
    "    track(\"Computing PCA plot with K-Means clusters\")\n",
    "    plot_clusters(clusters_PCA, min_max_data,standardized_data,\"PCA\")\n",
    "    preprocessed_data['clusters'] = clusters_PCA\n",
    "elif silhouette_PCA < silhouette_UMAP and silhouette_UMAP > silhouette_none:\n",
    "    track(\"Computing UMAP plot with K-Means clusters\")\n",
    "    plot_clusters(clusters_UMAP, min_max_data, standardized_data,\"UMAP\")\n",
    "    preprocessed_data['clusters'] = clusters_UMAP\n",
    "else:\n",
    "    track(\"Computing PCA and UMAP plots with K-Means clusters\")\n",
    "    plot_clusters(clusters_none, min_max_data, standardized_data,\"None\")\n",
    "    preprocessed_data['clusters'] = clusters_none"
   ],
   "outputs": [
    {
     "output_type": "display_data",
     "data": {
      "image/png": "[encoded data removed]",
      "text/plain": [
       "<Figure size 432x288 with 1 Axes>"
      ]
     },
     "metadata": {
      "needs_background": "light"
     }
    }
   ],
   "metadata": {}
  },
  {
   "cell_type": "markdown",
   "source": [
    "# Saving data with clusters"
   ],
   "metadata": {}
  },
  {
   "cell_type": "code",
   "execution_count": 16,
   "source": [
    "# Lastly, the final dataframe with the cluster variable is written in the suitable folder.\n",
    "\n",
    "try: os.mkdir(\"../../temp_data/\")\n",
    "except: pass\n",
    "preprocessed_data.to_csv(\"../../temp_data/model_data_with_clusters.csv\", index_label = \"author\")"
   ],
   "outputs": [],
   "metadata": {}
  },
  {
   "cell_type": "code",
   "execution_count": null,
   "source": [],
   "outputs": [],
   "metadata": {}
  }
 ],
 "metadata": {
  "orig_nbformat": 4,
  "language_info": {
   "name": "python",
   "version": "3.9.7",
   "mimetype": "text/x-python",
   "codemirror_mode": {
    "name": "ipython",
    "version": 3
   },
   "pygments_lexer": "ipython3",
   "nbconvert_exporter": "python",
   "file_extension": ".py"
  },
  "kernelspec": {
   "name": "python3",
   "display_name": "Python 3.9.7 64-bit"
  },
  "interpreter": {
   "hash": "aee8b7b246df8f9039afb4144a1f6fd8d2ca17a180786b69acc140d282b71a49"
  }
 },
 "nbformat": 4,
 "nbformat_minor": 2
}