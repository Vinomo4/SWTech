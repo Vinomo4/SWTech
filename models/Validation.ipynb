{
 "cells": [
  {
   "cell_type": "code",
   "execution_count": 1,
   "metadata": {},
   "outputs": [],
   "source": [
    "# Import libraries and packages\n",
    "import os\n",
    "import pandas as pd\n",
    "\n",
    "# Define path with .py codes containing functions used in this script\n",
    "os.getcwd()\n",
    "os.chdir( '../src/features')\n",
    "\n",
    "# Import useful functions for this script  \n",
    "from tracking import track\n",
    "from preparation_data import change_commits_to_authors"
   ]
  },
  {
   "cell_type": "markdown",
   "metadata": {},
   "source": [
    "# Reading data\n",
    "#### Define path to data files"
   ]
  },
  {
   "cell_type": "code",
   "execution_count": 2,
   "metadata": {},
   "outputs": [],
   "source": [
    "track(\"Defining path to data files\")\n",
    "\n",
    "# Define base path to data files\n",
    "path1 = '../../data/raw/'\n",
    "path2 = '../../temp_data/'\n",
    "\n",
    "# Define path to the jira issues table\n",
    "path_git_commits = path1 + 'GIT_COMMITS.csv'\n",
    "path_jira_issues = path1 + 'JIRA_ISSUES.csv'\n",
    "path_clusters_data = path2 + 'model_data_with_clusters.csv'\n",
    "\n",
    "# Ensure the input file exist\n",
    "assert os.path.isfile(path_git_commits), f'{path_git_commits} not found. Is it a file?'\n",
    "assert os.path.isfile(path_jira_issues), f'{path_jira_issues} not found. Is it a file?'\n",
    "assert os.path.isfile(path_clusters_data), f'{path_clusters_data} not found. Is it a file?'"
   ]
  },
  {
   "cell_type": "markdown",
   "metadata": {},
   "source": [
    "#### Read the files"
   ]
  },
  {
   "cell_type": "code",
   "execution_count": 3,
   "metadata": {},
   "outputs": [],
   "source": [
    "track(\"Reading files\")\n",
    "\n",
    "# Read GIT_COMMITS, JIRA_ISSUES, and clusterized data \n",
    "git_commits = pd.read_csv(path_git_commits)\n",
    "jira_issues = pd.read_csv(path_jira_issues)\n",
    "clusterized_data = pd.read_csv(path_clusters_data)\n",
    "\n",
    "track(\"Finished reading files\")"
   ]
  },
  {
   "cell_type": "markdown",
   "metadata": {},
   "source": [
    "# Join "
   ]
  },
  {
   "cell_type": "code",
   "execution_count": 5,
   "metadata": {},
   "outputs": [],
   "source": [
    "# A dummy column is added in order to compute the number of issues per author afterwards.\n",
    "jira_issues[\"N_ISSUES\"] = [1 for i in range(len(jira_issues))]#\n",
    "# Then,only the hash variable and the new column from the JIRA_ISSUES table are selected.\n",
    "jira_issues = jira_issues[[\"HASH\",\"N_ISSUES\"]]"
   ]
  },
  {
   "cell_type": "code",
   "execution_count": 7,
   "metadata": {},
   "outputs": [],
   "source": [
    "# In order to execute the groupby functions, first we need to associate each commit to\n",
    "# an author in the sonar_complete table. To do so, a dictionary of commit- author will be created.\n",
    "commit_author_dict = {}\n",
    "for i in range(len(git_commits)):\n",
    "    commit_author_dict[git_commits[\"COMMIT_HASH\"][i]] = git_commits[\"AUTHOR\"][i]"
   ]
  },
  {
   "cell_type": "code",
   "execution_count": 8,
   "metadata": {},
   "outputs": [
    {
     "name": "stderr",
     "output_type": "stream",
     "text": [
      "/home/vinomo/Desktop/Q7/TAED2/SWTech/src/features/preparation_data.py:108: SettingWithCopyWarning: \n",
      "A value is trying to be set on a copy of a slice from a DataFrame.\n",
      "Try using .loc[row_indexer,col_indexer] = value instead\n",
      "\n",
      "See the caveats in the documentation: https://pandas.pydata.org/pandas-docs/stable/user_guide/indexing.html#returning-a-view-versus-a-copy\n",
      "  table[\"Author\"] = authors_measures\n"
     ]
    }
   ],
   "source": [
    "# Then we subsititue the hash form JIRA_ISSUES for the respective author.\n",
    "jira_issues = change_commits_to_authors(jira_issues,\"HASH\",commit_author_dict)"
   ]
  },
  {
   "cell_type": "code",
   "execution_count": 11,
   "metadata": {},
   "outputs": [
    {
     "data": {
      "text/plain": [
       "array([nan, 'Alex Nordlund', 'Rob Tompkins', 'Benedikt Ritter',\n",
       "       'Lukasz Lenart'], dtype=object)"
      ]
     },
     "execution_count": 11,
     "metadata": {},
     "output_type": "execute_result"
    }
   ],
   "source": []
  }
 ],
 "metadata": {
  "interpreter": {
   "hash": "aee8b7b246df8f9039afb4144a1f6fd8d2ca17a180786b69acc140d282b71a49"
  },
  "kernelspec": {
   "display_name": "Python 3",
   "language": "python",
   "name": "python3"
  },
  "language_info": {
   "codemirror_mode": {
    "name": "ipython",
    "version": 3
   },
   "file_extension": ".py",
   "mimetype": "text/x-python",
   "name": "python",
   "nbconvert_exporter": "python",
   "pygments_lexer": "ipython3",
   "version": "3.8.10"
  }
 },
 "nbformat": 4,
 "nbformat_minor": 2
}
